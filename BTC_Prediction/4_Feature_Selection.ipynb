{
  "nbformat": 4,
  "nbformat_minor": 0,
  "metadata": {
    "colab": {
      "name": "4_Feature_Selection.ipynb",
      "provenance": []
    },
    "kernelspec": {
      "name": "python3",
      "display_name": "Python 3"
    },
    "language_info": {
      "name": "python"
    }
  },
  "cells": [
    {
      "cell_type": "markdown",
      "source": [
        "# Importing Libraries"
      ],
      "metadata": {
        "id": "BbqpcD2KulHV"
      }
    },
    {
      "cell_type": "code",
      "source": [
        "import pandas as pd\n",
        "import numpy as np\n",
        "from sklearn.ensemble import RandomForestRegressor\n",
        "from sklearn.feature_selection import RFECV\n",
        "from google.colab import files\n",
        "from statsmodels.stats.outliers_influence import variance_inflation_factor"
      ],
      "metadata": {
        "id": "VAddphICvIux"
      },
      "execution_count": 1,
      "outputs": []
    },
    {
      "cell_type": "markdown",
      "source": [
        "# Functions"
      ],
      "metadata": {
        "id": "AqoiOFJDJSTJ"
      }
    },
    {
      "cell_type": "code",
      "source": [
        "# function to convert datatype to float32 and replace NaN and infinity values with zero and some large number respectively.\n",
        "def convert_to_float32(df):\n",
        "  for i in range(len(df.columns)):\n",
        "    if df[df.columns[i]].dtype == 'float64':\n",
        "      df[df.columns[i]] = np.nan_to_num(df[df.columns[i]].astype(np.float32))\n",
        "  return df"
      ],
      "metadata": {
        "id": "gDx2mje4JUfh"
      },
      "execution_count": 2,
      "outputs": []
    },
    {
      "cell_type": "code",
      "source": [
        "# Creating blocks for each set of smoothening range and technical indicators\n",
        "blocks = []\n",
        "technical_indicators = np.array(['sma','wma','ema','tema','dema','rsi','std','roc','mom','var','BBupper','BBmiddle','BBlower'])\n",
        "smoothening_range = np.array(['3','7','30','90'])\n",
        "for p in smoothening_range:\n",
        "  for t in technical_indicators:\n",
        "    string = p + t\n",
        "    blocks.append(string)"
      ],
      "metadata": {
        "id": "yjAhc2R4JZzT"
      },
      "execution_count": 3,
      "outputs": []
    },
    {
      "cell_type": "code",
      "source": [
        "# Function to select technical features\n",
        "def tech_feature_selection(x,y):\n",
        "  \"\"\" \n",
        "      this function selects most important feature from each block\n",
        "  \"\"\"\n",
        "  list_of_selected_features=[]\n",
        "  for string in blocks:\n",
        "    print('Block:',string)\n",
        "    new_df=x.filter(like=string,axis=1)\n",
        "    new_df = pd.DataFrame(new_df)\n",
        "    new_df.columns=x.filter(like=string,axis=1).columns\n",
        "    estimator = RandomForestRegressor(random_state=42)\n",
        "    selector = RFECV(estimator, step=0.6,verbose=True,scoring='neg_mean_absolute_error',n_jobs=-1)\n",
        "    selector = selector.fit(new_df, y)\n",
        "    mask = selector.get_support()\n",
        "    new_features = new_df.columns[mask]\n",
        "    print('Feature Rankings',selector.ranking_)\n",
        "    if len(new_features.values)>1:\n",
        "      estimator.fit(new_df, y)\n",
        "      for j in range(len(estimator.feature_importances_)):\n",
        "        if estimator.feature_importances_.max() == estimator.feature_importances_[j]:\n",
        "          new_features = new_df.columns[j]\n",
        "          print('Selected Feature:', new_features)\n",
        "          list_of_selected_features.append(new_features)\n",
        "    else:\n",
        "      features = new_features.values\n",
        "      for i in features:\n",
        "        print(i)\n",
        "        list_of_selected_features.append(i)\n",
        "    print('Number of Selected Features:', len(list_of_selected_features))\n",
        "    print('*'*50)\n",
        "  return list_of_selected_features"
      ],
      "metadata": {
        "id": "wqE0WghzJe9i"
      },
      "execution_count": 4,
      "outputs": []
    },
    {
      "cell_type": "code",
      "source": [
        "# Function that measures Variance Inflation Factor\n",
        "def VIF(data):\n",
        "  vif_data = pd.DataFrame()\n",
        "  vif_data[\"feature_vif\"] = data.columns\n",
        "  # calculating vif for each feature in train dataset\n",
        "  vif_data[\"VIF\"] = [variance_inflation_factor(data.values, i) for i in range(len(data.columns))]\n",
        "  return vif_data.sort_values(['VIF'],ascending = False)"
      ],
      "metadata": {
        "id": "Xrd2TdB_Jk5P"
      },
      "execution_count": 5,
      "outputs": []
    },
    {
      "cell_type": "code",
      "source": [
        "def RanF_imp(x,y):\n",
        "  regr_24=RandomForestRegressor(random_state=42)\n",
        "  regr_24.fit(x,y)\n",
        "  fea_imp_24 = pd.DataFrame({'Features':x.columns,'Feature_importances':list(regr_24.feature_importances_)}).sort_values(by = ['Feature_importances'],ascending=False)\n",
        "  return fea_imp_24\n",
        "def RanF_imp_plot(df):\n",
        "  plot = df.sort_values(['Feature_importances'], ascending=[True]).tail(15).plot.barh(x='Features', y='Feature_importances',figsize=(15,8))\n",
        "  return plot"
      ],
      "metadata": {
        "id": "_Gmb8_i7poHM"
      },
      "execution_count": 6,
      "outputs": []
    },
    {
      "cell_type": "markdown",
      "source": [
        "# Loading data"
      ],
      "metadata": {
        "id": "BTNwpMurprtH"
      }
    },
    {
      "cell_type": "code",
      "source": [
        ""
      ],
      "metadata": {
        "id": "iLClJkDby-BU"
      },
      "execution_count": null,
      "outputs": []
    },
    {
      "cell_type": "code",
      "source": [
        "from google.colab import drive\n",
        "drive.mount('/content/drive')"
      ],
      "metadata": {
        "colab": {
          "base_uri": "https://localhost:8080/"
        },
        "id": "tRGCEAGyzASY",
        "outputId": "8b0e62d8-d6c0-4c4d-b22b-5d3516f8bdcc"
      },
      "execution_count": 9,
      "outputs": [
        {
          "output_type": "stream",
          "name": "stdout",
          "text": [
            "Mounted at /content/drive\n"
          ]
        }
      ]
    },
    {
      "cell_type": "code",
      "source": [
        "btc_data_24 = pd.read_csv('/content/drive/MyDrive/Colab Notebooks/BTC  Price Prediction/BTC_feature_engineered_data_24.csv')"
      ],
      "metadata": {
        "id": "vLXtBvRipoHC"
      },
      "execution_count": 11,
      "outputs": []
    },
    {
      "cell_type": "code",
      "source": [
        "btc_data_24 = convert_to_float32(btc_data_24)"
      ],
      "metadata": {
        "id": "OsIuw1UDpoHD"
      },
      "execution_count": 12,
      "outputs": []
    },
    {
      "cell_type": "code",
      "source": [
        "btc_data_24.shape"
      ],
      "metadata": {
        "colab": {
          "base_uri": "https://localhost:8080/"
        },
        "id": "OV_DI_LLtkU_",
        "outputId": "7c111d04-096c-4930-d63b-4e4ceed766ff"
      },
      "execution_count": 13,
      "outputs": [
        {
          "output_type": "execute_result",
          "data": {
            "text/plain": [
              "(2707, 1586)"
            ]
          },
          "metadata": {},
          "execution_count": 13
        }
      ]
    },
    {
      "cell_type": "markdown",
      "source": [
        "### Dropping Redundant Features"
      ],
      "metadata": {
        "id": "HqpkYg_5zcef"
      }
    },
    {
      "cell_type": "code",
      "source": [
        "Redundant_features = ['coins_in_supply']\n",
        "for i in Redundant_features:\n",
        "  btc_data_24 = btc_data_24[btc_data_24.columns.drop(list(btc_data_24.filter(regex=i)))]"
      ],
      "metadata": {
        "id": "LXJaeQQjrgof"
      },
      "execution_count": 14,
      "outputs": []
    },
    {
      "cell_type": "code",
      "source": [
        "btc_data_24.shape"
      ],
      "metadata": {
        "colab": {
          "base_uri": "https://localhost:8080/"
        },
        "id": "8V5W58zetnEa",
        "outputId": "025231f5-6f8e-4e70-b13c-f755f9ee42b1"
      },
      "execution_count": 15,
      "outputs": [
        {
          "output_type": "execute_result",
          "data": {
            "text/plain": [
              "(2707, 1520)"
            ]
          },
          "metadata": {},
          "execution_count": 15
        }
      ]
    },
    {
      "cell_type": "markdown",
      "source": [
        "### Splitting the data into X, Y "
      ],
      "metadata": {
        "id": "-TZfnL47z3X4"
      }
    },
    {
      "cell_type": "code",
      "source": [
        "x_btc_data_24 = btc_data_24.drop(['next_day_BTC_price'], axis=1)\n",
        "y_btc_data_24 = btc_data_24['next_day_BTC_price']"
      ],
      "metadata": {
        "id": "HTRuI0GkpoHF"
      },
      "execution_count": 16,
      "outputs": []
    },
    {
      "cell_type": "markdown",
      "source": [
        "# Feature Selection"
      ],
      "metadata": {
        "id": "xFKJTlNQGjb5"
      }
    },
    {
      "cell_type": "code",
      "source": [
        "list_of_selected_features_24 = tech_feature_selection(x_btc_data_24,y_btc_data_24)"
      ],
      "metadata": {
        "id": "dbHdgzRJpoHG",
        "colab": {
          "base_uri": "https://localhost:8080/"
        },
        "outputId": "48e14d40-3716-4063-af63-3d26c3c2c732"
      },
      "execution_count": 18,
      "outputs": [
        {
          "output_type": "stream",
          "name": "stdout",
          "text": [
            "Block: 3sma\n",
            "Fitting estimator with 23 features.\n",
            "Fitting estimator with 10 features.\n",
            "Feature Rankings [3 3 3 2 2 3 3 3 3 3 3 3 2 3 3 2 3 2 2 2 2 1 2]\n",
            "Close_3sma\n",
            "Number of Selected Features: 1\n",
            "**************************************************\n",
            "Block: 3wma\n",
            "Fitting estimator with 23 features.\n",
            "Fitting estimator with 10 features.\n",
            "Feature Rankings [3 3 3 3 2 3 2 3 3 3 3 3 2 3 3 2 3 2 2 2 2 1 2]\n",
            "Close_3wma\n",
            "Number of Selected Features: 2\n",
            "**************************************************\n",
            "Block: 3ema\n",
            "Fitting estimator with 23 features.\n",
            "Fitting estimator with 10 features.\n",
            "Feature Rankings [3 3 3 2 2 3 3 3 3 3 3 2 3 3 3 2 3 2 2 2 2 1 2]\n",
            "Close_3ema\n",
            "Number of Selected Features: 3\n",
            "**************************************************\n",
            "Block: 3tema\n",
            "Fitting estimator with 23 features.\n",
            "Fitting estimator with 10 features.\n",
            "Feature Rankings [3 3 3 2 3 3 2 3 3 3 3 2 3 3 3 2 3 2 2 2 2 1 2]\n",
            "Close_3tema\n",
            "Number of Selected Features: 4\n",
            "**************************************************\n",
            "Block: 3dema\n",
            "Feature Rankings [1 1 1 1 1 1 1 1 1 1 1 1 1 1 1 1 1 1 1 1 1 1 1]\n",
            "Selected Feature: Close_3dema\n",
            "Number of Selected Features: 5\n",
            "**************************************************\n",
            "Block: 3rsi\n",
            "Fitting estimator with 23 features.\n",
            "Feature Rankings [2 2 2 1 1 1 1 2 1 2 1 1 1 2 2 1 1 2 2 2 2 2 2]\n",
            "Selected Feature: difficulty_3rsi\n",
            "Number of Selected Features: 6\n",
            "**************************************************\n",
            "Block: 3std\n",
            "Fitting estimator with 23 features.\n",
            "Feature Rankings [2 2 2 2 1 1 1 2 2 2 1 1 2 2 2 2 2 1 1 1 1 1 2]\n",
            "Selected Feature: transactionvalue_3std\n",
            "Number of Selected Features: 7\n",
            "**************************************************\n",
            "Block: 3roc\n",
            "Fitting estimator with 23 features.\n",
            "Feature Rankings [2 1 2 2 2 2 1 2 1 2 1 1 1 1 2 1 2 2 1 2 2 1 2]\n",
            "Selected Feature: median_transaction_fee_3roc\n",
            "Number of Selected Features: 8\n",
            "**************************************************\n",
            "Block: 3mom\n",
            "Fitting estimator with 23 features.\n",
            "Feature Rankings [2 2 2 2 1 1 1 2 2 2 1 1 2 2 2 2 2 1 1 1 1 1 2]\n",
            "Selected Feature: Low_3mom\n",
            "Number of Selected Features: 9\n",
            "**************************************************\n",
            "Block: 3var\n",
            "Feature Rankings [1 1 1 1 1 1 1 1 1 1 1 1 1 1 1 1 1 1 1 1 1 1 1]\n",
            "Selected Feature: transactionvalue_3var\n",
            "Number of Selected Features: 10\n",
            "**************************************************\n",
            "Block: 3BBupper\n",
            "Fitting estimator with 23 features.\n",
            "Fitting estimator with 10 features.\n",
            "Feature Rankings [2 3 3 2 2 3 3 3 3 3 3 3 2 3 3 2 3 2 2 2 2 1 3]\n",
            "Close_3BBupper\n",
            "Number of Selected Features: 11\n",
            "**************************************************\n",
            "Block: 3BBmiddle\n",
            "Fitting estimator with 23 features.\n",
            "Fitting estimator with 10 features.\n",
            "Feature Rankings [3 3 3 2 2 3 3 3 3 3 3 3 2 3 3 2 3 2 2 2 2 1 2]\n",
            "Close_3BBmiddle\n",
            "Number of Selected Features: 12\n",
            "**************************************************\n",
            "Block: 3BBlower\n",
            "Feature Rankings [1 1 1 1 1 1 1 1 1 1 1 1 1 1 1 1 1 1 1 1 1 1 1]\n",
            "Selected Feature: Open_3BBlower\n",
            "Number of Selected Features: 13\n",
            "**************************************************\n",
            "Block: 7sma\n",
            "Fitting estimator with 23 features.\n",
            "Fitting estimator with 10 features.\n",
            "Feature Rankings [3 3 3 2 3 2 3 3 3 3 3 2 3 3 3 2 3 2 2 2 2 1 2]\n",
            "Close_7sma\n",
            "Number of Selected Features: 14\n",
            "**************************************************\n",
            "Block: 7wma\n",
            "Fitting estimator with 23 features.\n",
            "Fitting estimator with 10 features.\n",
            "Feature Rankings [3 3 3 2 3 2 3 3 3 3 3 3 2 3 3 2 3 2 2 2 2 1 2]\n",
            "Close_7wma\n",
            "Number of Selected Features: 15\n",
            "**************************************************\n",
            "Block: 7ema\n",
            "Fitting estimator with 23 features.\n",
            "Fitting estimator with 10 features.\n",
            "Feature Rankings [3 3 3 2 3 2 3 3 3 3 2 3 3 3 3 2 3 2 2 2 2 1 2]\n",
            "Close_7ema\n",
            "Number of Selected Features: 16\n",
            "**************************************************\n",
            "Block: 7tema\n",
            "Fitting estimator with 23 features.\n",
            "Feature Rankings [2 2 2 1 1 2 2 2 2 2 2 2 1 2 2 1 2 1 1 1 1 1 1]\n",
            "Selected Feature: Close_7tema\n",
            "Number of Selected Features: 17\n",
            "**************************************************\n",
            "Block: 7dema\n",
            "Fitting estimator with 23 features.\n",
            "Feature Rankings [2 2 2 1 2 2 2 2 2 2 2 1 1 2 2 1 2 1 1 1 1 1 1]\n",
            "Selected Feature: Close_7dema\n",
            "Number of Selected Features: 18\n",
            "**************************************************\n",
            "Block: 7rsi\n",
            "Feature Rankings [1 1 1 1 1 1 1 1 1 1 1 1 1 1 1 1 1 1 1 1 1 1 1]\n",
            "Selected Feature: difficulty_7rsi\n",
            "Number of Selected Features: 19\n",
            "**************************************************\n",
            "Block: 7std\n",
            "Fitting estimator with 23 features.\n",
            "Feature Rankings [2 2 1 2 1 1 1 2 1 2 1 1 2 2 2 2 2 2 1 2 2 1 1]\n",
            "Selected Feature: Close_7std\n",
            "Number of Selected Features: 20\n",
            "**************************************************\n",
            "Block: 7roc\n",
            "Fitting estimator with 23 features.\n",
            "Feature Rankings [2 1 1 1 2 2 1 2 1 2 1 1 1 1 2 1 2 2 2 2 2 2 2]\n",
            "Selected Feature: median_transaction_fee_7roc\n",
            "Number of Selected Features: 21\n",
            "**************************************************\n",
            "Block: 7mom\n",
            "Fitting estimator with 23 features.\n",
            "Feature Rankings [2 2 2 2 1 1 1 2 2 2 1 1 1 2 2 2 2 2 1 1 1 1 2]\n",
            "Selected Feature: transactionvalue_7mom\n",
            "Number of Selected Features: 22\n",
            "**************************************************\n",
            "Block: 7var\n",
            "Fitting estimator with 23 features.\n",
            "Feature Rankings [2 2 1 2 1 1 1 2 1 2 1 1 2 2 2 2 2 2 1 2 2 1 1]\n",
            "Selected Feature: Close_7var\n",
            "Number of Selected Features: 23\n",
            "**************************************************\n",
            "Block: 7BBupper\n",
            "Fitting estimator with 23 features.\n",
            "Feature Rankings [2 2 2 1 2 2 2 2 2 2 2 2 1 2 2 1 1 1 1 1 1 1 1]\n",
            "Selected Feature: Close_7BBupper\n",
            "Number of Selected Features: 24\n",
            "**************************************************\n",
            "Block: 7BBmiddle\n",
            "Fitting estimator with 23 features.\n",
            "Fitting estimator with 10 features.\n",
            "Feature Rankings [3 3 3 2 3 2 3 3 3 3 3 2 3 3 3 2 3 2 2 2 2 1 2]\n",
            "Close_7BBmiddle\n",
            "Number of Selected Features: 25\n",
            "**************************************************\n",
            "Block: 7BBlower\n",
            "Fitting estimator with 23 features.\n",
            "Fitting estimator with 10 features.\n",
            "Feature Rankings [3 3 3 2 3 2 3 3 3 3 3 3 2 3 3 2 3 2 1 2 2 2 2]\n",
            "Open_7BBlower\n",
            "Number of Selected Features: 26\n",
            "**************************************************\n",
            "Block: 30sma\n",
            "Fitting estimator with 23 features.\n",
            "Fitting estimator with 10 features.\n",
            "Feature Rankings [3 3 3 2 3 2 3 3 3 3 2 3 3 3 3 2 3 2 2 1 2 2 2]\n",
            "High_30sma\n",
            "Number of Selected Features: 27\n",
            "**************************************************\n",
            "Block: 30wma\n",
            "Fitting estimator with 23 features.\n",
            "Fitting estimator with 10 features.\n",
            "Feature Rankings [3 3 3 2 3 2 3 3 3 3 2 3 3 3 3 2 3 2 2 1 2 2 2]\n",
            "High_30wma\n",
            "Number of Selected Features: 28\n",
            "**************************************************\n",
            "Block: 30ema\n",
            "Fitting estimator with 23 features.\n",
            "Fitting estimator with 10 features.\n",
            "Feature Rankings [3 3 3 2 3 2 3 3 3 3 2 3 3 3 3 2 3 2 2 1 2 2 2]\n",
            "High_30ema\n",
            "Number of Selected Features: 29\n",
            "**************************************************\n",
            "Block: 30tema\n",
            "Fitting estimator with 23 features.\n",
            "Fitting estimator with 10 features.\n",
            "Feature Rankings [3 3 3 2 3 3 3 3 3 3 3 2 2 3 3 2 3 2 2 1 2 2 2]\n",
            "High_30tema\n",
            "Number of Selected Features: 30\n",
            "**************************************************\n",
            "Block: 30dema\n",
            "Fitting estimator with 23 features.\n",
            "Fitting estimator with 10 features.\n",
            "Feature Rankings [3 3 3 2 3 3 3 3 3 3 2 3 3 3 3 2 2 2 2 2 2 1 2]\n",
            "Close_30dema\n",
            "Number of Selected Features: 31\n",
            "**************************************************\n",
            "Block: 30rsi\n",
            "Feature Rankings [1 1 1 1 1 1 1 1 1 1 1 1 1 1 1 1 1 1 1 1 1 1 1]\n",
            "Selected Feature: difficulty_30rsi\n",
            "Number of Selected Features: 32\n",
            "**************************************************\n",
            "Block: 30std\n",
            "Feature Rankings [1 1 1 1 1 1 1 1 1 1 1 1 1 1 1 1 1 1 1 1 1 1 1]\n",
            "Selected Feature: tweets_30std\n",
            "Number of Selected Features: 33\n",
            "**************************************************\n",
            "Block: 30roc\n",
            "Fitting estimator with 23 features.\n",
            "Feature Rankings [2 1 2 1 2 2 1 1 1 2 1 1 1 1 2 1 2 2 2 2 2 2 2]\n",
            "Selected Feature: top100cap_30roc\n",
            "Number of Selected Features: 34\n",
            "**************************************************\n",
            "Block: 30mom\n",
            "Fitting estimator with 23 features.\n",
            "Feature Rankings [2 2 2 1 2 1 1 2 2 2 1 2 1 2 2 1 2 1 2 1 1 1 2]\n",
            "Selected Feature: transactionvalue_30mom\n",
            "Number of Selected Features: 35\n",
            "**************************************************\n",
            "Block: 30var\n",
            "Feature Rankings [1 1 1 1 1 1 1 1 1 1 1 1 1 1 1 1 1 1 1 1 1 1 1]\n",
            "Selected Feature: tweets_30var\n",
            "Number of Selected Features: 36\n",
            "**************************************************\n",
            "Block: 30BBupper\n",
            "Fitting estimator with 23 features.\n",
            "Fitting estimator with 10 features.\n",
            "Feature Rankings [2 2 3 2 3 3 3 3 3 3 3 3 3 3 2 3 3 2 2 1 2 2 2]\n",
            "High_30BBupper\n",
            "Number of Selected Features: 37\n",
            "**************************************************\n",
            "Block: 30BBmiddle\n",
            "Fitting estimator with 23 features.\n",
            "Fitting estimator with 10 features.\n",
            "Feature Rankings [3 3 3 2 3 2 3 3 3 3 2 3 3 3 3 2 3 2 2 1 2 2 2]\n",
            "High_30BBmiddle\n",
            "Number of Selected Features: 38\n",
            "**************************************************\n",
            "Block: 30BBlower\n",
            "Fitting estimator with 23 features.\n",
            "Fitting estimator with 10 features.\n",
            "Feature Rankings [3 2 3 2 3 2 2 3 3 3 2 3 3 2 3 3 3 2 2 3 1 2 3]\n",
            "Low_30BBlower\n",
            "Number of Selected Features: 39\n",
            "**************************************************\n",
            "Block: 90sma\n",
            "Feature Rankings [1 1 1 1 1 1 1 1 1 1 1 1 1 1 1 1 1 1 1 1 1 1 1]\n",
            "Selected Feature: transactionvalue_90sma\n",
            "Number of Selected Features: 40\n",
            "**************************************************\n",
            "Block: 90wma\n",
            "Feature Rankings [1 1 1 1 1 1 1 1 1 1 1 1 1 1 1 1 1 1 1 1 1 1 1]\n",
            "Selected Feature: transactionvalue_90wma\n",
            "Number of Selected Features: 41\n",
            "**************************************************\n",
            "Block: 90ema\n",
            "Feature Rankings [1 1 1 1 1 1 1 1 1 1 1 1 1 1 1 1 1 1 1 1 1 1 1]\n",
            "Selected Feature: transactionvalue_90ema\n",
            "Number of Selected Features: 42\n",
            "**************************************************\n",
            "Block: 90tema\n",
            "Fitting estimator with 23 features.\n",
            "Fitting estimator with 10 features.\n",
            "Feature Rankings [3 3 3 3 3 2 3 3 3 3 1 3 3 3 3 2 2 2 2 2 2 2 2]\n",
            "transactionvalue_90tema\n",
            "Number of Selected Features: 43\n",
            "**************************************************\n",
            "Block: 90dema\n",
            "Fitting estimator with 23 features.\n",
            "Fitting estimator with 10 features.\n",
            "Feature Rankings [3 3 2 3 3 2 3 3 3 3 2 3 3 3 3 2 3 2 2 1 2 2 2]\n",
            "High_90dema\n",
            "Number of Selected Features: 44\n",
            "**************************************************\n",
            "Block: 90rsi\n",
            "Fitting estimator with 23 features.\n",
            "Feature Rankings [2 2 2 1 2 1 2 1 1 2 1 1 2 2 2 1 1 1 2 1 2 2 2]\n",
            "Selected Feature: difficulty_90rsi\n",
            "Number of Selected Features: 45\n",
            "**************************************************\n",
            "Block: 90std\n",
            "Feature Rankings [1 1 1 1 1 1 1 1 1 1 1 1 1 1 1 1 1 1 1 1 1 1 1]\n",
            "Selected Feature: tweets_90std\n",
            "Number of Selected Features: 46\n",
            "**************************************************\n",
            "Block: 90roc\n",
            "Fitting estimator with 23 features.\n",
            "Feature Rankings [2 2 2 1 1 1 1 2 2 2 1 1 1 1 2 1 1 2 2 2 2 2 2]\n",
            "Selected Feature: top100cap_90roc\n",
            "Number of Selected Features: 47\n",
            "**************************************************\n",
            "Block: 90mom\n",
            "Fitting estimator with 23 features.\n",
            "Feature Rankings [2 2 2 1 2 1 1 2 2 2 1 2 1 2 2 2 2 1 1 1 1 1 2]\n",
            "Selected Feature: transactionvalue_90mom\n",
            "Number of Selected Features: 48\n",
            "**************************************************\n",
            "Block: 90var\n",
            "Feature Rankings [1 1 1 1 1 1 1 1 1 1 1 1 1 1 1 1 1 1 1 1 1 1 1]\n",
            "Selected Feature: tweets_90var\n",
            "Number of Selected Features: 49\n",
            "**************************************************\n",
            "Block: 90BBupper\n",
            "Feature Rankings [1 1 1 1 1 1 1 1 1 1 1 1 1 1 1 1 1 1 1 1 1 1 1]\n",
            "Selected Feature: avg_price_90BBupper\n",
            "Number of Selected Features: 50\n",
            "**************************************************\n",
            "Block: 90BBmiddle\n",
            "Feature Rankings [1 1 1 1 1 1 1 1 1 1 1 1 1 1 1 1 1 1 1 1 1 1 1]\n",
            "Selected Feature: transactionvalue_90BBmiddle\n",
            "Number of Selected Features: 51\n",
            "**************************************************\n",
            "Block: 90BBlower\n",
            "Feature Rankings [1 1 1 1 1 1 1 1 1 1 1 1 1 1 1 1 1 1 1 1 1 1 1]\n",
            "Selected Feature: mediantransactionvalue_90BBlower\n",
            "Number of Selected Features: 52\n",
            "**************************************************\n"
          ]
        }
      ]
    },
    {
      "cell_type": "code",
      "source": [
        "btc_data_24.columns[1:24]"
      ],
      "metadata": {
        "colab": {
          "base_uri": "https://localhost:8080/"
        },
        "id": "Cskw8gnRttUD",
        "outputId": "1796e698-d01b-42a2-a04c-956a96b6ba92"
      },
      "execution_count": 19,
      "outputs": [
        {
          "output_type": "execute_result",
          "data": {
            "text/plain": [
              "Index(['transactions', 'size', 'sentbyaddress', 'difficulty', 'hashrate',\n",
              "       'mining_profitability', 'sentinusd', 'transactionfees',\n",
              "       'median_transaction_fee', 'confirmationtime', 'transactionvalue',\n",
              "       'tweets', 'google_trends', 'mediantransactionvalue', 'activeaddresses',\n",
              "       'top100cap', 'fee_to_reward', 'avg_price', 'Open', 'High', 'Low',\n",
              "       'Close', 'miners_revenue'],\n",
              "      dtype='object')"
            ]
          },
          "metadata": {},
          "execution_count": 19
        }
      ]
    },
    {
      "cell_type": "code",
      "source": [
        "btc_data_24_raw = btc_data_24.iloc[:,1:24]"
      ],
      "metadata": {
        "id": "VOb02fs7poHH"
      },
      "execution_count": 20,
      "outputs": []
    },
    {
      "cell_type": "code",
      "source": [
        "btc_data_24_tech = btc_data_24[list_of_selected_features_24]"
      ],
      "metadata": {
        "id": "x05DfVnKpoHI"
      },
      "execution_count": 21,
      "outputs": []
    },
    {
      "cell_type": "code",
      "source": [
        "VIF_24_tech = VIF(btc_data_24_tech)\n",
        "VIF_24_tech.iloc[10:]"
      ],
      "metadata": {
        "id": "RxZtpoiGpoHI",
        "colab": {
          "base_uri": "https://localhost:8080/",
          "height": 1000
        },
        "outputId": "4fbb2ae8-f0c1-4997-ce32-611758fc0c24"
      },
      "execution_count": 22,
      "outputs": [
        {
          "output_type": "execute_result",
          "data": {
            "text/plain": [
              "                         feature_vif         VIF\n",
              "39            transactionvalue_90sma  213.446533\n",
              "28                        High_30ema  199.643368\n",
              "31                  difficulty_30rsi  184.380239\n",
              "41            transactionvalue_90ema  151.223937\n",
              "50       transactionvalue_90BBmiddle   75.281335\n",
              "18                   difficulty_7rsi   70.916162\n",
              "42           transactionvalue_90tema   56.812566\n",
              "43                       High_90dema   54.990819\n",
              "32                      tweets_30std   53.441809\n",
              "12                     Open_3BBlower   49.459970\n",
              "25                     Open_7BBlower   48.580081\n",
              "5                    difficulty_3rsi   41.254398\n",
              "44                  difficulty_90rsi   35.102836\n",
              "16                       Close_7tema   26.132478\n",
              "24                   Close_7BBmiddle   22.672004\n",
              "11                   Close_3BBmiddle   21.877298\n",
              "14                        Close_7wma   19.957543\n",
              "49               avg_price_90BBupper   16.318938\n",
              "35                      tweets_30var   14.907992\n",
              "40            transactionvalue_90wma   13.857294\n",
              "30                      Close_30dema   12.973173\n",
              "45                      tweets_90std   12.478902\n",
              "26                        High_30sma   12.356828\n",
              "9              transactionvalue_3var   10.754624\n",
              "37                   High_30BBmiddle    9.837022\n",
              "22                        Close_7var    9.599561\n",
              "13                        Close_7sma    9.122630\n",
              "10                    Close_3BBupper    8.440145\n",
              "27                        High_30wma    7.970802\n",
              "6              transactionvalue_3std    7.536282\n",
              "48                      tweets_90var    6.666164\n",
              "3                        Close_3tema    6.193171\n",
              "8                           Low_3mom    3.248055\n",
              "51  mediantransactionvalue_90BBlower    3.021164\n",
              "47            transactionvalue_90mom    2.875771\n",
              "2                         Close_3ema    2.793305\n",
              "46                   top100cap_90roc    2.098641\n",
              "21             transactionvalue_7mom    1.718139\n",
              "34            transactionvalue_30mom    1.714961\n",
              "33                   top100cap_30roc    1.678920\n",
              "7        median_transaction_fee_3roc    1.480822\n",
              "20       median_transaction_fee_7roc    1.473679"
            ],
            "text/html": [
              "\n",
              "  <div id=\"df-1d6010bc-11d3-46a6-8081-3703923a4e38\">\n",
              "    <div class=\"colab-df-container\">\n",
              "      <div>\n",
              "<style scoped>\n",
              "    .dataframe tbody tr th:only-of-type {\n",
              "        vertical-align: middle;\n",
              "    }\n",
              "\n",
              "    .dataframe tbody tr th {\n",
              "        vertical-align: top;\n",
              "    }\n",
              "\n",
              "    .dataframe thead th {\n",
              "        text-align: right;\n",
              "    }\n",
              "</style>\n",
              "<table border=\"1\" class=\"dataframe\">\n",
              "  <thead>\n",
              "    <tr style=\"text-align: right;\">\n",
              "      <th></th>\n",
              "      <th>feature_vif</th>\n",
              "      <th>VIF</th>\n",
              "    </tr>\n",
              "  </thead>\n",
              "  <tbody>\n",
              "    <tr>\n",
              "      <th>39</th>\n",
              "      <td>transactionvalue_90sma</td>\n",
              "      <td>213.446533</td>\n",
              "    </tr>\n",
              "    <tr>\n",
              "      <th>28</th>\n",
              "      <td>High_30ema</td>\n",
              "      <td>199.643368</td>\n",
              "    </tr>\n",
              "    <tr>\n",
              "      <th>31</th>\n",
              "      <td>difficulty_30rsi</td>\n",
              "      <td>184.380239</td>\n",
              "    </tr>\n",
              "    <tr>\n",
              "      <th>41</th>\n",
              "      <td>transactionvalue_90ema</td>\n",
              "      <td>151.223937</td>\n",
              "    </tr>\n",
              "    <tr>\n",
              "      <th>50</th>\n",
              "      <td>transactionvalue_90BBmiddle</td>\n",
              "      <td>75.281335</td>\n",
              "    </tr>\n",
              "    <tr>\n",
              "      <th>18</th>\n",
              "      <td>difficulty_7rsi</td>\n",
              "      <td>70.916162</td>\n",
              "    </tr>\n",
              "    <tr>\n",
              "      <th>42</th>\n",
              "      <td>transactionvalue_90tema</td>\n",
              "      <td>56.812566</td>\n",
              "    </tr>\n",
              "    <tr>\n",
              "      <th>43</th>\n",
              "      <td>High_90dema</td>\n",
              "      <td>54.990819</td>\n",
              "    </tr>\n",
              "    <tr>\n",
              "      <th>32</th>\n",
              "      <td>tweets_30std</td>\n",
              "      <td>53.441809</td>\n",
              "    </tr>\n",
              "    <tr>\n",
              "      <th>12</th>\n",
              "      <td>Open_3BBlower</td>\n",
              "      <td>49.459970</td>\n",
              "    </tr>\n",
              "    <tr>\n",
              "      <th>25</th>\n",
              "      <td>Open_7BBlower</td>\n",
              "      <td>48.580081</td>\n",
              "    </tr>\n",
              "    <tr>\n",
              "      <th>5</th>\n",
              "      <td>difficulty_3rsi</td>\n",
              "      <td>41.254398</td>\n",
              "    </tr>\n",
              "    <tr>\n",
              "      <th>44</th>\n",
              "      <td>difficulty_90rsi</td>\n",
              "      <td>35.102836</td>\n",
              "    </tr>\n",
              "    <tr>\n",
              "      <th>16</th>\n",
              "      <td>Close_7tema</td>\n",
              "      <td>26.132478</td>\n",
              "    </tr>\n",
              "    <tr>\n",
              "      <th>24</th>\n",
              "      <td>Close_7BBmiddle</td>\n",
              "      <td>22.672004</td>\n",
              "    </tr>\n",
              "    <tr>\n",
              "      <th>11</th>\n",
              "      <td>Close_3BBmiddle</td>\n",
              "      <td>21.877298</td>\n",
              "    </tr>\n",
              "    <tr>\n",
              "      <th>14</th>\n",
              "      <td>Close_7wma</td>\n",
              "      <td>19.957543</td>\n",
              "    </tr>\n",
              "    <tr>\n",
              "      <th>49</th>\n",
              "      <td>avg_price_90BBupper</td>\n",
              "      <td>16.318938</td>\n",
              "    </tr>\n",
              "    <tr>\n",
              "      <th>35</th>\n",
              "      <td>tweets_30var</td>\n",
              "      <td>14.907992</td>\n",
              "    </tr>\n",
              "    <tr>\n",
              "      <th>40</th>\n",
              "      <td>transactionvalue_90wma</td>\n",
              "      <td>13.857294</td>\n",
              "    </tr>\n",
              "    <tr>\n",
              "      <th>30</th>\n",
              "      <td>Close_30dema</td>\n",
              "      <td>12.973173</td>\n",
              "    </tr>\n",
              "    <tr>\n",
              "      <th>45</th>\n",
              "      <td>tweets_90std</td>\n",
              "      <td>12.478902</td>\n",
              "    </tr>\n",
              "    <tr>\n",
              "      <th>26</th>\n",
              "      <td>High_30sma</td>\n",
              "      <td>12.356828</td>\n",
              "    </tr>\n",
              "    <tr>\n",
              "      <th>9</th>\n",
              "      <td>transactionvalue_3var</td>\n",
              "      <td>10.754624</td>\n",
              "    </tr>\n",
              "    <tr>\n",
              "      <th>37</th>\n",
              "      <td>High_30BBmiddle</td>\n",
              "      <td>9.837022</td>\n",
              "    </tr>\n",
              "    <tr>\n",
              "      <th>22</th>\n",
              "      <td>Close_7var</td>\n",
              "      <td>9.599561</td>\n",
              "    </tr>\n",
              "    <tr>\n",
              "      <th>13</th>\n",
              "      <td>Close_7sma</td>\n",
              "      <td>9.122630</td>\n",
              "    </tr>\n",
              "    <tr>\n",
              "      <th>10</th>\n",
              "      <td>Close_3BBupper</td>\n",
              "      <td>8.440145</td>\n",
              "    </tr>\n",
              "    <tr>\n",
              "      <th>27</th>\n",
              "      <td>High_30wma</td>\n",
              "      <td>7.970802</td>\n",
              "    </tr>\n",
              "    <tr>\n",
              "      <th>6</th>\n",
              "      <td>transactionvalue_3std</td>\n",
              "      <td>7.536282</td>\n",
              "    </tr>\n",
              "    <tr>\n",
              "      <th>48</th>\n",
              "      <td>tweets_90var</td>\n",
              "      <td>6.666164</td>\n",
              "    </tr>\n",
              "    <tr>\n",
              "      <th>3</th>\n",
              "      <td>Close_3tema</td>\n",
              "      <td>6.193171</td>\n",
              "    </tr>\n",
              "    <tr>\n",
              "      <th>8</th>\n",
              "      <td>Low_3mom</td>\n",
              "      <td>3.248055</td>\n",
              "    </tr>\n",
              "    <tr>\n",
              "      <th>51</th>\n",
              "      <td>mediantransactionvalue_90BBlower</td>\n",
              "      <td>3.021164</td>\n",
              "    </tr>\n",
              "    <tr>\n",
              "      <th>47</th>\n",
              "      <td>transactionvalue_90mom</td>\n",
              "      <td>2.875771</td>\n",
              "    </tr>\n",
              "    <tr>\n",
              "      <th>2</th>\n",
              "      <td>Close_3ema</td>\n",
              "      <td>2.793305</td>\n",
              "    </tr>\n",
              "    <tr>\n",
              "      <th>46</th>\n",
              "      <td>top100cap_90roc</td>\n",
              "      <td>2.098641</td>\n",
              "    </tr>\n",
              "    <tr>\n",
              "      <th>21</th>\n",
              "      <td>transactionvalue_7mom</td>\n",
              "      <td>1.718139</td>\n",
              "    </tr>\n",
              "    <tr>\n",
              "      <th>34</th>\n",
              "      <td>transactionvalue_30mom</td>\n",
              "      <td>1.714961</td>\n",
              "    </tr>\n",
              "    <tr>\n",
              "      <th>33</th>\n",
              "      <td>top100cap_30roc</td>\n",
              "      <td>1.678920</td>\n",
              "    </tr>\n",
              "    <tr>\n",
              "      <th>7</th>\n",
              "      <td>median_transaction_fee_3roc</td>\n",
              "      <td>1.480822</td>\n",
              "    </tr>\n",
              "    <tr>\n",
              "      <th>20</th>\n",
              "      <td>median_transaction_fee_7roc</td>\n",
              "      <td>1.473679</td>\n",
              "    </tr>\n",
              "  </tbody>\n",
              "</table>\n",
              "</div>\n",
              "      <button class=\"colab-df-convert\" onclick=\"convertToInteractive('df-1d6010bc-11d3-46a6-8081-3703923a4e38')\"\n",
              "              title=\"Convert this dataframe to an interactive table.\"\n",
              "              style=\"display:none;\">\n",
              "        \n",
              "  <svg xmlns=\"http://www.w3.org/2000/svg\" height=\"24px\"viewBox=\"0 0 24 24\"\n",
              "       width=\"24px\">\n",
              "    <path d=\"M0 0h24v24H0V0z\" fill=\"none\"/>\n",
              "    <path d=\"M18.56 5.44l.94 2.06.94-2.06 2.06-.94-2.06-.94-.94-2.06-.94 2.06-2.06.94zm-11 1L8.5 8.5l.94-2.06 2.06-.94-2.06-.94L8.5 2.5l-.94 2.06-2.06.94zm10 10l.94 2.06.94-2.06 2.06-.94-2.06-.94-.94-2.06-.94 2.06-2.06.94z\"/><path d=\"M17.41 7.96l-1.37-1.37c-.4-.4-.92-.59-1.43-.59-.52 0-1.04.2-1.43.59L10.3 9.45l-7.72 7.72c-.78.78-.78 2.05 0 2.83L4 21.41c.39.39.9.59 1.41.59.51 0 1.02-.2 1.41-.59l7.78-7.78 2.81-2.81c.8-.78.8-2.07 0-2.86zM5.41 20L4 18.59l7.72-7.72 1.47 1.35L5.41 20z\"/>\n",
              "  </svg>\n",
              "      </button>\n",
              "      \n",
              "  <style>\n",
              "    .colab-df-container {\n",
              "      display:flex;\n",
              "      flex-wrap:wrap;\n",
              "      gap: 12px;\n",
              "    }\n",
              "\n",
              "    .colab-df-convert {\n",
              "      background-color: #E8F0FE;\n",
              "      border: none;\n",
              "      border-radius: 50%;\n",
              "      cursor: pointer;\n",
              "      display: none;\n",
              "      fill: #1967D2;\n",
              "      height: 32px;\n",
              "      padding: 0 0 0 0;\n",
              "      width: 32px;\n",
              "    }\n",
              "\n",
              "    .colab-df-convert:hover {\n",
              "      background-color: #E2EBFA;\n",
              "      box-shadow: 0px 1px 2px rgba(60, 64, 67, 0.3), 0px 1px 3px 1px rgba(60, 64, 67, 0.15);\n",
              "      fill: #174EA6;\n",
              "    }\n",
              "\n",
              "    [theme=dark] .colab-df-convert {\n",
              "      background-color: #3B4455;\n",
              "      fill: #D2E3FC;\n",
              "    }\n",
              "\n",
              "    [theme=dark] .colab-df-convert:hover {\n",
              "      background-color: #434B5C;\n",
              "      box-shadow: 0px 1px 3px 1px rgba(0, 0, 0, 0.15);\n",
              "      filter: drop-shadow(0px 1px 2px rgba(0, 0, 0, 0.3));\n",
              "      fill: #FFFFFF;\n",
              "    }\n",
              "  </style>\n",
              "\n",
              "      <script>\n",
              "        const buttonEl =\n",
              "          document.querySelector('#df-1d6010bc-11d3-46a6-8081-3703923a4e38 button.colab-df-convert');\n",
              "        buttonEl.style.display =\n",
              "          google.colab.kernel.accessAllowed ? 'block' : 'none';\n",
              "\n",
              "        async function convertToInteractive(key) {\n",
              "          const element = document.querySelector('#df-1d6010bc-11d3-46a6-8081-3703923a4e38');\n",
              "          const dataTable =\n",
              "            await google.colab.kernel.invokeFunction('convertToInteractive',\n",
              "                                                     [key], {});\n",
              "          if (!dataTable) return;\n",
              "\n",
              "          const docLinkHtml = 'Like what you see? Visit the ' +\n",
              "            '<a target=\"_blank\" href=https://colab.research.google.com/notebooks/data_table.ipynb>data table notebook</a>'\n",
              "            + ' to learn more about interactive tables.';\n",
              "          element.innerHTML = '';\n",
              "          dataTable['output_type'] = 'display_data';\n",
              "          await google.colab.output.renderOutput(dataTable, element);\n",
              "          const docLink = document.createElement('div');\n",
              "          docLink.innerHTML = docLinkHtml;\n",
              "          element.appendChild(docLink);\n",
              "        }\n",
              "      </script>\n",
              "    </div>\n",
              "  </div>\n",
              "  "
            ]
          },
          "metadata": {},
          "execution_count": 22
        }
      ]
    },
    {
      "cell_type": "code",
      "source": [
        "tech_24 = btc_data_24[VIF_24_tech['feature_vif'].to_list()]"
      ],
      "metadata": {
        "id": "hjj7GA5xZvBl"
      },
      "execution_count": 23,
      "outputs": []
    },
    {
      "cell_type": "code",
      "source": [
        "tech_24.drop(VIF_24_tech[VIF_24_tech['VIF']>10]['feature_vif'].to_list(),axis=1,inplace=True)"
      ],
      "metadata": {
        "colab": {
          "base_uri": "https://localhost:8080/"
        },
        "id": "H81Kyw-nx0vx",
        "outputId": "2b7bd34b-07b6-4c1f-a22a-6f68727d8df4"
      },
      "execution_count": 24,
      "outputs": [
        {
          "output_type": "stream",
          "name": "stderr",
          "text": [
            "/usr/local/lib/python3.7/dist-packages/pandas/core/frame.py:4913: SettingWithCopyWarning: \n",
            "A value is trying to be set on a copy of a slice from a DataFrame\n",
            "\n",
            "See the caveats in the documentation: https://pandas.pydata.org/pandas-docs/stable/user_guide/indexing.html#returning-a-view-versus-a-copy\n",
            "  errors=errors,\n"
          ]
        }
      ]
    },
    {
      "cell_type": "code",
      "source": [
        "tech_24.shape"
      ],
      "metadata": {
        "colab": {
          "base_uri": "https://localhost:8080/"
        },
        "outputId": "ddf9ef3d-d92c-45be-ed48-a5fdb9a0488f",
        "id": "z71Pw89QpoHJ"
      },
      "execution_count": 25,
      "outputs": [
        {
          "output_type": "execute_result",
          "data": {
            "text/plain": [
              "(2707, 18)"
            ]
          },
          "metadata": {},
          "execution_count": 25
        }
      ]
    },
    {
      "cell_type": "code",
      "source": [
        "VIF_24_raw = VIF(btc_data_24_raw)\n",
        "VIF_24_raw"
      ],
      "metadata": {
        "id": "7V_7eiRhpoHK",
        "colab": {
          "base_uri": "https://localhost:8080/",
          "height": 771
        },
        "outputId": "76b630e6-d324-4ecb-cf21-d2c23c01db30"
      },
      "execution_count": 26,
      "outputs": [
        {
          "output_type": "execute_result",
          "data": {
            "text/plain": [
              "               feature_vif        VIF\n",
              "4                 hashrate  97.133890\n",
              "3               difficulty  52.911522\n",
              "17               avg_price  22.966046\n",
              "19                    High  22.949892\n",
              "18                    Open  22.910899\n",
              "21                   Close  22.480136\n",
              "20                     Low  22.402827\n",
              "14         activeaddresses  10.342299\n",
              "2            sentbyaddress   7.925108\n",
              "10        transactionvalue   4.070218\n",
              "0             transactions   3.941458\n",
              "22          miners_revenue   3.604264\n",
              "11                  tweets   3.036616\n",
              "12           google_trends   2.885748\n",
              "6                sentinusd   2.660329\n",
              "1                     size   2.595778\n",
              "7          transactionfees   2.381310\n",
              "8   median_transaction_fee   2.130568\n",
              "13  mediantransactionvalue   2.068092\n",
              "16           fee_to_reward   1.602384\n",
              "5     mining_profitability   1.147868\n",
              "9         confirmationtime   0.262630\n",
              "15               top100cap   0.206529"
            ],
            "text/html": [
              "\n",
              "  <div id=\"df-f6f77c17-fcf0-4821-80a9-9736d4ffa157\">\n",
              "    <div class=\"colab-df-container\">\n",
              "      <div>\n",
              "<style scoped>\n",
              "    .dataframe tbody tr th:only-of-type {\n",
              "        vertical-align: middle;\n",
              "    }\n",
              "\n",
              "    .dataframe tbody tr th {\n",
              "        vertical-align: top;\n",
              "    }\n",
              "\n",
              "    .dataframe thead th {\n",
              "        text-align: right;\n",
              "    }\n",
              "</style>\n",
              "<table border=\"1\" class=\"dataframe\">\n",
              "  <thead>\n",
              "    <tr style=\"text-align: right;\">\n",
              "      <th></th>\n",
              "      <th>feature_vif</th>\n",
              "      <th>VIF</th>\n",
              "    </tr>\n",
              "  </thead>\n",
              "  <tbody>\n",
              "    <tr>\n",
              "      <th>4</th>\n",
              "      <td>hashrate</td>\n",
              "      <td>97.133890</td>\n",
              "    </tr>\n",
              "    <tr>\n",
              "      <th>3</th>\n",
              "      <td>difficulty</td>\n",
              "      <td>52.911522</td>\n",
              "    </tr>\n",
              "    <tr>\n",
              "      <th>17</th>\n",
              "      <td>avg_price</td>\n",
              "      <td>22.966046</td>\n",
              "    </tr>\n",
              "    <tr>\n",
              "      <th>19</th>\n",
              "      <td>High</td>\n",
              "      <td>22.949892</td>\n",
              "    </tr>\n",
              "    <tr>\n",
              "      <th>18</th>\n",
              "      <td>Open</td>\n",
              "      <td>22.910899</td>\n",
              "    </tr>\n",
              "    <tr>\n",
              "      <th>21</th>\n",
              "      <td>Close</td>\n",
              "      <td>22.480136</td>\n",
              "    </tr>\n",
              "    <tr>\n",
              "      <th>20</th>\n",
              "      <td>Low</td>\n",
              "      <td>22.402827</td>\n",
              "    </tr>\n",
              "    <tr>\n",
              "      <th>14</th>\n",
              "      <td>activeaddresses</td>\n",
              "      <td>10.342299</td>\n",
              "    </tr>\n",
              "    <tr>\n",
              "      <th>2</th>\n",
              "      <td>sentbyaddress</td>\n",
              "      <td>7.925108</td>\n",
              "    </tr>\n",
              "    <tr>\n",
              "      <th>10</th>\n",
              "      <td>transactionvalue</td>\n",
              "      <td>4.070218</td>\n",
              "    </tr>\n",
              "    <tr>\n",
              "      <th>0</th>\n",
              "      <td>transactions</td>\n",
              "      <td>3.941458</td>\n",
              "    </tr>\n",
              "    <tr>\n",
              "      <th>22</th>\n",
              "      <td>miners_revenue</td>\n",
              "      <td>3.604264</td>\n",
              "    </tr>\n",
              "    <tr>\n",
              "      <th>11</th>\n",
              "      <td>tweets</td>\n",
              "      <td>3.036616</td>\n",
              "    </tr>\n",
              "    <tr>\n",
              "      <th>12</th>\n",
              "      <td>google_trends</td>\n",
              "      <td>2.885748</td>\n",
              "    </tr>\n",
              "    <tr>\n",
              "      <th>6</th>\n",
              "      <td>sentinusd</td>\n",
              "      <td>2.660329</td>\n",
              "    </tr>\n",
              "    <tr>\n",
              "      <th>1</th>\n",
              "      <td>size</td>\n",
              "      <td>2.595778</td>\n",
              "    </tr>\n",
              "    <tr>\n",
              "      <th>7</th>\n",
              "      <td>transactionfees</td>\n",
              "      <td>2.381310</td>\n",
              "    </tr>\n",
              "    <tr>\n",
              "      <th>8</th>\n",
              "      <td>median_transaction_fee</td>\n",
              "      <td>2.130568</td>\n",
              "    </tr>\n",
              "    <tr>\n",
              "      <th>13</th>\n",
              "      <td>mediantransactionvalue</td>\n",
              "      <td>2.068092</td>\n",
              "    </tr>\n",
              "    <tr>\n",
              "      <th>16</th>\n",
              "      <td>fee_to_reward</td>\n",
              "      <td>1.602384</td>\n",
              "    </tr>\n",
              "    <tr>\n",
              "      <th>5</th>\n",
              "      <td>mining_profitability</td>\n",
              "      <td>1.147868</td>\n",
              "    </tr>\n",
              "    <tr>\n",
              "      <th>9</th>\n",
              "      <td>confirmationtime</td>\n",
              "      <td>0.262630</td>\n",
              "    </tr>\n",
              "    <tr>\n",
              "      <th>15</th>\n",
              "      <td>top100cap</td>\n",
              "      <td>0.206529</td>\n",
              "    </tr>\n",
              "  </tbody>\n",
              "</table>\n",
              "</div>\n",
              "      <button class=\"colab-df-convert\" onclick=\"convertToInteractive('df-f6f77c17-fcf0-4821-80a9-9736d4ffa157')\"\n",
              "              title=\"Convert this dataframe to an interactive table.\"\n",
              "              style=\"display:none;\">\n",
              "        \n",
              "  <svg xmlns=\"http://www.w3.org/2000/svg\" height=\"24px\"viewBox=\"0 0 24 24\"\n",
              "       width=\"24px\">\n",
              "    <path d=\"M0 0h24v24H0V0z\" fill=\"none\"/>\n",
              "    <path d=\"M18.56 5.44l.94 2.06.94-2.06 2.06-.94-2.06-.94-.94-2.06-.94 2.06-2.06.94zm-11 1L8.5 8.5l.94-2.06 2.06-.94-2.06-.94L8.5 2.5l-.94 2.06-2.06.94zm10 10l.94 2.06.94-2.06 2.06-.94-2.06-.94-.94-2.06-.94 2.06-2.06.94z\"/><path d=\"M17.41 7.96l-1.37-1.37c-.4-.4-.92-.59-1.43-.59-.52 0-1.04.2-1.43.59L10.3 9.45l-7.72 7.72c-.78.78-.78 2.05 0 2.83L4 21.41c.39.39.9.59 1.41.59.51 0 1.02-.2 1.41-.59l7.78-7.78 2.81-2.81c.8-.78.8-2.07 0-2.86zM5.41 20L4 18.59l7.72-7.72 1.47 1.35L5.41 20z\"/>\n",
              "  </svg>\n",
              "      </button>\n",
              "      \n",
              "  <style>\n",
              "    .colab-df-container {\n",
              "      display:flex;\n",
              "      flex-wrap:wrap;\n",
              "      gap: 12px;\n",
              "    }\n",
              "\n",
              "    .colab-df-convert {\n",
              "      background-color: #E8F0FE;\n",
              "      border: none;\n",
              "      border-radius: 50%;\n",
              "      cursor: pointer;\n",
              "      display: none;\n",
              "      fill: #1967D2;\n",
              "      height: 32px;\n",
              "      padding: 0 0 0 0;\n",
              "      width: 32px;\n",
              "    }\n",
              "\n",
              "    .colab-df-convert:hover {\n",
              "      background-color: #E2EBFA;\n",
              "      box-shadow: 0px 1px 2px rgba(60, 64, 67, 0.3), 0px 1px 3px 1px rgba(60, 64, 67, 0.15);\n",
              "      fill: #174EA6;\n",
              "    }\n",
              "\n",
              "    [theme=dark] .colab-df-convert {\n",
              "      background-color: #3B4455;\n",
              "      fill: #D2E3FC;\n",
              "    }\n",
              "\n",
              "    [theme=dark] .colab-df-convert:hover {\n",
              "      background-color: #434B5C;\n",
              "      box-shadow: 0px 1px 3px 1px rgba(0, 0, 0, 0.15);\n",
              "      filter: drop-shadow(0px 1px 2px rgba(0, 0, 0, 0.3));\n",
              "      fill: #FFFFFF;\n",
              "    }\n",
              "  </style>\n",
              "\n",
              "      <script>\n",
              "        const buttonEl =\n",
              "          document.querySelector('#df-f6f77c17-fcf0-4821-80a9-9736d4ffa157 button.colab-df-convert');\n",
              "        buttonEl.style.display =\n",
              "          google.colab.kernel.accessAllowed ? 'block' : 'none';\n",
              "\n",
              "        async function convertToInteractive(key) {\n",
              "          const element = document.querySelector('#df-f6f77c17-fcf0-4821-80a9-9736d4ffa157');\n",
              "          const dataTable =\n",
              "            await google.colab.kernel.invokeFunction('convertToInteractive',\n",
              "                                                     [key], {});\n",
              "          if (!dataTable) return;\n",
              "\n",
              "          const docLinkHtml = 'Like what you see? Visit the ' +\n",
              "            '<a target=\"_blank\" href=https://colab.research.google.com/notebooks/data_table.ipynb>data table notebook</a>'\n",
              "            + ' to learn more about interactive tables.';\n",
              "          element.innerHTML = '';\n",
              "          dataTable['output_type'] = 'display_data';\n",
              "          await google.colab.output.renderOutput(dataTable, element);\n",
              "          const docLink = document.createElement('div');\n",
              "          docLink.innerHTML = docLinkHtml;\n",
              "          element.appendChild(docLink);\n",
              "        }\n",
              "      </script>\n",
              "    </div>\n",
              "  </div>\n",
              "  "
            ]
          },
          "metadata": {},
          "execution_count": 26
        }
      ]
    },
    {
      "cell_type": "code",
      "source": [
        "raw_24 = btc_data_24_raw.copy()\n",
        "raw_24.drop(VIF_24_raw[VIF_24_raw['VIF']>10]['feature_vif'].to_list(),axis=1,inplace=True)"
      ],
      "metadata": {
        "id": "gEo_pOVbyFm9"
      },
      "execution_count": 27,
      "outputs": []
    },
    {
      "cell_type": "code",
      "source": [
        "raw_24.shape"
      ],
      "metadata": {
        "colab": {
          "base_uri": "https://localhost:8080/"
        },
        "outputId": "c7a92a50-426d-487c-f549-9ff8468414c4",
        "id": "GocBU8y-poHK"
      },
      "execution_count": 28,
      "outputs": [
        {
          "output_type": "execute_result",
          "data": {
            "text/plain": [
              "(2707, 15)"
            ]
          },
          "metadata": {},
          "execution_count": 28
        }
      ]
    },
    {
      "cell_type": "code",
      "source": [
        "data_24 = raw_24.join(tech_24)"
      ],
      "metadata": {
        "id": "my5Nh5SIpoHL"
      },
      "execution_count": 29,
      "outputs": []
    },
    {
      "cell_type": "code",
      "source": [
        "data_24.shape"
      ],
      "metadata": {
        "colab": {
          "base_uri": "https://localhost:8080/"
        },
        "outputId": "8eaf7824-fd17-4d68-b718-103abf2c420a",
        "id": "49e5CsRHpoHL"
      },
      "execution_count": null,
      "outputs": [
        {
          "output_type": "execute_result",
          "data": {
            "text/plain": [
              "(2684, 35)"
            ]
          },
          "metadata": {},
          "execution_count": 59
        }
      ]
    },
    {
      "cell_type": "code",
      "source": [
        "fea_imp_24 = RanF_imp(data_24,y_btc_data_24)\n",
        "fea_imp_24.head(25)"
      ],
      "metadata": {
        "id": "Ql0NXc3oAseC",
        "colab": {
          "base_uri": "https://localhost:8080/",
          "height": 834
        },
        "outputId": "8dbd6c84-5975-4672-f64c-69f3f23fb811"
      },
      "execution_count": 30,
      "outputs": [
        {
          "output_type": "execute_result",
          "data": {
            "text/plain": [
              "                            Features  Feature_importances\n",
              "17                        Close_7sma             0.219086\n",
              "22                       Close_3tema             0.195101\n",
              "19                        High_30wma             0.166915\n",
              "26                        Close_3ema             0.160099\n",
              "18                    Close_3BBupper             0.151326\n",
              "15                   High_30BBmiddle             0.105345\n",
              "14                    miners_revenue             0.000351\n",
              "9                             tweets             0.000102\n",
              "12                         top100cap             0.000091\n",
              "30                   top100cap_30roc             0.000091\n",
              "21                      tweets_90var             0.000087\n",
              "31       median_transaction_fee_3roc             0.000086\n",
              "4                          sentinusd             0.000080\n",
              "32       median_transaction_fee_7roc             0.000077\n",
              "29            transactionvalue_30mom             0.000075\n",
              "28             transactionvalue_7mom             0.000074\n",
              "20             transactionvalue_3std             0.000070\n",
              "16                        Close_7var             0.000070\n",
              "24  mediantransactionvalue_90BBlower             0.000069\n",
              "10                     google_trends             0.000069\n",
              "6             median_transaction_fee             0.000069\n",
              "3               mining_profitability             0.000068\n",
              "23                          Low_3mom             0.000064\n",
              "25            transactionvalue_90mom             0.000063\n",
              "0                       transactions             0.000062"
            ],
            "text/html": [
              "\n",
              "  <div id=\"df-ffefa265-f600-40b5-b198-ca7c7c190197\">\n",
              "    <div class=\"colab-df-container\">\n",
              "      <div>\n",
              "<style scoped>\n",
              "    .dataframe tbody tr th:only-of-type {\n",
              "        vertical-align: middle;\n",
              "    }\n",
              "\n",
              "    .dataframe tbody tr th {\n",
              "        vertical-align: top;\n",
              "    }\n",
              "\n",
              "    .dataframe thead th {\n",
              "        text-align: right;\n",
              "    }\n",
              "</style>\n",
              "<table border=\"1\" class=\"dataframe\">\n",
              "  <thead>\n",
              "    <tr style=\"text-align: right;\">\n",
              "      <th></th>\n",
              "      <th>Features</th>\n",
              "      <th>Feature_importances</th>\n",
              "    </tr>\n",
              "  </thead>\n",
              "  <tbody>\n",
              "    <tr>\n",
              "      <th>17</th>\n",
              "      <td>Close_7sma</td>\n",
              "      <td>0.219086</td>\n",
              "    </tr>\n",
              "    <tr>\n",
              "      <th>22</th>\n",
              "      <td>Close_3tema</td>\n",
              "      <td>0.195101</td>\n",
              "    </tr>\n",
              "    <tr>\n",
              "      <th>19</th>\n",
              "      <td>High_30wma</td>\n",
              "      <td>0.166915</td>\n",
              "    </tr>\n",
              "    <tr>\n",
              "      <th>26</th>\n",
              "      <td>Close_3ema</td>\n",
              "      <td>0.160099</td>\n",
              "    </tr>\n",
              "    <tr>\n",
              "      <th>18</th>\n",
              "      <td>Close_3BBupper</td>\n",
              "      <td>0.151326</td>\n",
              "    </tr>\n",
              "    <tr>\n",
              "      <th>15</th>\n",
              "      <td>High_30BBmiddle</td>\n",
              "      <td>0.105345</td>\n",
              "    </tr>\n",
              "    <tr>\n",
              "      <th>14</th>\n",
              "      <td>miners_revenue</td>\n",
              "      <td>0.000351</td>\n",
              "    </tr>\n",
              "    <tr>\n",
              "      <th>9</th>\n",
              "      <td>tweets</td>\n",
              "      <td>0.000102</td>\n",
              "    </tr>\n",
              "    <tr>\n",
              "      <th>12</th>\n",
              "      <td>top100cap</td>\n",
              "      <td>0.000091</td>\n",
              "    </tr>\n",
              "    <tr>\n",
              "      <th>30</th>\n",
              "      <td>top100cap_30roc</td>\n",
              "      <td>0.000091</td>\n",
              "    </tr>\n",
              "    <tr>\n",
              "      <th>21</th>\n",
              "      <td>tweets_90var</td>\n",
              "      <td>0.000087</td>\n",
              "    </tr>\n",
              "    <tr>\n",
              "      <th>31</th>\n",
              "      <td>median_transaction_fee_3roc</td>\n",
              "      <td>0.000086</td>\n",
              "    </tr>\n",
              "    <tr>\n",
              "      <th>4</th>\n",
              "      <td>sentinusd</td>\n",
              "      <td>0.000080</td>\n",
              "    </tr>\n",
              "    <tr>\n",
              "      <th>32</th>\n",
              "      <td>median_transaction_fee_7roc</td>\n",
              "      <td>0.000077</td>\n",
              "    </tr>\n",
              "    <tr>\n",
              "      <th>29</th>\n",
              "      <td>transactionvalue_30mom</td>\n",
              "      <td>0.000075</td>\n",
              "    </tr>\n",
              "    <tr>\n",
              "      <th>28</th>\n",
              "      <td>transactionvalue_7mom</td>\n",
              "      <td>0.000074</td>\n",
              "    </tr>\n",
              "    <tr>\n",
              "      <th>20</th>\n",
              "      <td>transactionvalue_3std</td>\n",
              "      <td>0.000070</td>\n",
              "    </tr>\n",
              "    <tr>\n",
              "      <th>16</th>\n",
              "      <td>Close_7var</td>\n",
              "      <td>0.000070</td>\n",
              "    </tr>\n",
              "    <tr>\n",
              "      <th>24</th>\n",
              "      <td>mediantransactionvalue_90BBlower</td>\n",
              "      <td>0.000069</td>\n",
              "    </tr>\n",
              "    <tr>\n",
              "      <th>10</th>\n",
              "      <td>google_trends</td>\n",
              "      <td>0.000069</td>\n",
              "    </tr>\n",
              "    <tr>\n",
              "      <th>6</th>\n",
              "      <td>median_transaction_fee</td>\n",
              "      <td>0.000069</td>\n",
              "    </tr>\n",
              "    <tr>\n",
              "      <th>3</th>\n",
              "      <td>mining_profitability</td>\n",
              "      <td>0.000068</td>\n",
              "    </tr>\n",
              "    <tr>\n",
              "      <th>23</th>\n",
              "      <td>Low_3mom</td>\n",
              "      <td>0.000064</td>\n",
              "    </tr>\n",
              "    <tr>\n",
              "      <th>25</th>\n",
              "      <td>transactionvalue_90mom</td>\n",
              "      <td>0.000063</td>\n",
              "    </tr>\n",
              "    <tr>\n",
              "      <th>0</th>\n",
              "      <td>transactions</td>\n",
              "      <td>0.000062</td>\n",
              "    </tr>\n",
              "  </tbody>\n",
              "</table>\n",
              "</div>\n",
              "      <button class=\"colab-df-convert\" onclick=\"convertToInteractive('df-ffefa265-f600-40b5-b198-ca7c7c190197')\"\n",
              "              title=\"Convert this dataframe to an interactive table.\"\n",
              "              style=\"display:none;\">\n",
              "        \n",
              "  <svg xmlns=\"http://www.w3.org/2000/svg\" height=\"24px\"viewBox=\"0 0 24 24\"\n",
              "       width=\"24px\">\n",
              "    <path d=\"M0 0h24v24H0V0z\" fill=\"none\"/>\n",
              "    <path d=\"M18.56 5.44l.94 2.06.94-2.06 2.06-.94-2.06-.94-.94-2.06-.94 2.06-2.06.94zm-11 1L8.5 8.5l.94-2.06 2.06-.94-2.06-.94L8.5 2.5l-.94 2.06-2.06.94zm10 10l.94 2.06.94-2.06 2.06-.94-2.06-.94-.94-2.06-.94 2.06-2.06.94z\"/><path d=\"M17.41 7.96l-1.37-1.37c-.4-.4-.92-.59-1.43-.59-.52 0-1.04.2-1.43.59L10.3 9.45l-7.72 7.72c-.78.78-.78 2.05 0 2.83L4 21.41c.39.39.9.59 1.41.59.51 0 1.02-.2 1.41-.59l7.78-7.78 2.81-2.81c.8-.78.8-2.07 0-2.86zM5.41 20L4 18.59l7.72-7.72 1.47 1.35L5.41 20z\"/>\n",
              "  </svg>\n",
              "      </button>\n",
              "      \n",
              "  <style>\n",
              "    .colab-df-container {\n",
              "      display:flex;\n",
              "      flex-wrap:wrap;\n",
              "      gap: 12px;\n",
              "    }\n",
              "\n",
              "    .colab-df-convert {\n",
              "      background-color: #E8F0FE;\n",
              "      border: none;\n",
              "      border-radius: 50%;\n",
              "      cursor: pointer;\n",
              "      display: none;\n",
              "      fill: #1967D2;\n",
              "      height: 32px;\n",
              "      padding: 0 0 0 0;\n",
              "      width: 32px;\n",
              "    }\n",
              "\n",
              "    .colab-df-convert:hover {\n",
              "      background-color: #E2EBFA;\n",
              "      box-shadow: 0px 1px 2px rgba(60, 64, 67, 0.3), 0px 1px 3px 1px rgba(60, 64, 67, 0.15);\n",
              "      fill: #174EA6;\n",
              "    }\n",
              "\n",
              "    [theme=dark] .colab-df-convert {\n",
              "      background-color: #3B4455;\n",
              "      fill: #D2E3FC;\n",
              "    }\n",
              "\n",
              "    [theme=dark] .colab-df-convert:hover {\n",
              "      background-color: #434B5C;\n",
              "      box-shadow: 0px 1px 3px 1px rgba(0, 0, 0, 0.15);\n",
              "      filter: drop-shadow(0px 1px 2px rgba(0, 0, 0, 0.3));\n",
              "      fill: #FFFFFF;\n",
              "    }\n",
              "  </style>\n",
              "\n",
              "      <script>\n",
              "        const buttonEl =\n",
              "          document.querySelector('#df-ffefa265-f600-40b5-b198-ca7c7c190197 button.colab-df-convert');\n",
              "        buttonEl.style.display =\n",
              "          google.colab.kernel.accessAllowed ? 'block' : 'none';\n",
              "\n",
              "        async function convertToInteractive(key) {\n",
              "          const element = document.querySelector('#df-ffefa265-f600-40b5-b198-ca7c7c190197');\n",
              "          const dataTable =\n",
              "            await google.colab.kernel.invokeFunction('convertToInteractive',\n",
              "                                                     [key], {});\n",
              "          if (!dataTable) return;\n",
              "\n",
              "          const docLinkHtml = 'Like what you see? Visit the ' +\n",
              "            '<a target=\"_blank\" href=https://colab.research.google.com/notebooks/data_table.ipynb>data table notebook</a>'\n",
              "            + ' to learn more about interactive tables.';\n",
              "          element.innerHTML = '';\n",
              "          dataTable['output_type'] = 'display_data';\n",
              "          await google.colab.output.renderOutput(dataTable, element);\n",
              "          const docLink = document.createElement('div');\n",
              "          docLink.innerHTML = docLinkHtml;\n",
              "          element.appendChild(docLink);\n",
              "        }\n",
              "      </script>\n",
              "    </div>\n",
              "  </div>\n",
              "  "
            ]
          },
          "metadata": {},
          "execution_count": 30
        }
      ]
    },
    {
      "cell_type": "code",
      "source": [
        "RanF_imp_plot(fea_imp_24)"
      ],
      "metadata": {
        "colab": {
          "base_uri": "https://localhost:8080/",
          "height": 501
        },
        "outputId": "368b4214-b07c-4b95-c86c-358c04216af3",
        "id": "CbFycMD8poHM"
      },
      "execution_count": 31,
      "outputs": [
        {
          "output_type": "execute_result",
          "data": {
            "text/plain": [
              "<matplotlib.axes._subplots.AxesSubplot at 0x7f24e42fbf90>"
            ]
          },
          "metadata": {},
          "execution_count": 31
        },
        {
          "output_type": "display_data",
          "data": {
            "text/plain": [
              "<Figure size 1080x576 with 1 Axes>"
            ],
            "image/png": "[encoded data removed]"
          },
          "metadata": {
            "needs_background": "light"
          }
        }
      ]
    },
    {
      "cell_type": "code",
      "source": [
        "selected_features_24 = fea_imp_24.iloc[:12,:-1]['Features'].to_list()"
      ],
      "metadata": {
        "id": "zU1rQv9VpoHN"
      },
      "execution_count": 32,
      "outputs": []
    },
    {
      "cell_type": "code",
      "source": [
        "selected_features_24.insert(0, 'Date')\n",
        "selected_features_24.insert(len(selected_features_24)+1, 'next_day_BTC_price')"
      ],
      "metadata": {
        "id": "eX3szRhOpoHN"
      },
      "execution_count": 33,
      "outputs": []
    },
    {
      "cell_type": "code",
      "source": [
        "selected_features_24"
      ],
      "metadata": {
        "colab": {
          "base_uri": "https://localhost:8080/"
        },
        "outputId": "e77a3d8f-9351-444d-e0b9-06e78f193d86",
        "id": "MWu65eLepoHO"
      },
      "execution_count": 34,
      "outputs": [
        {
          "output_type": "execute_result",
          "data": {
            "text/plain": [
              "['Date',\n",
              " 'Close_7sma',\n",
              " 'Close_3tema',\n",
              " 'High_30wma',\n",
              " 'Close_3ema',\n",
              " 'Close_3BBupper',\n",
              " 'High_30BBmiddle',\n",
              " 'miners_revenue',\n",
              " 'tweets',\n",
              " 'top100cap',\n",
              " 'top100cap_30roc',\n",
              " 'tweets_90var',\n",
              " 'median_transaction_fee_3roc',\n",
              " 'next_day_BTC_price']"
            ]
          },
          "metadata": {},
          "execution_count": 34
        }
      ]
    },
    {
      "cell_type": "code",
      "source": [
        "data_selected_final_24 = btc_data_24[selected_features_24]"
      ],
      "metadata": {
        "id": "wrAJLwrypoHO"
      },
      "execution_count": 35,
      "outputs": []
    },
    {
      "cell_type": "code",
      "source": [
        "data_selected_final_24.to_csv('/content/drive/MyDrive/Colab Notebooks/BTC  Price Prediction/data_selected_final_24_4.csv', sep=',',index= False)"
      ],
      "metadata": {
        "id": "H1TU81bQpoHP"
      },
      "execution_count": 36,
      "outputs": []
    }
  ]
}