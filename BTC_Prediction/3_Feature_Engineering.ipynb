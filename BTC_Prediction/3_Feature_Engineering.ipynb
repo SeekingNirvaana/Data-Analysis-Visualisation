{
  "nbformat": 4,
  "nbformat_minor": 0,
  "metadata": {
    "colab": {
      "name": "3_Feature_Engineering.ipynb",
      "provenance": []
    },
    "kernelspec": {
      "name": "python3",
      "display_name": "Python 3"
    },
    "language_info": {
      "name": "python"
    }
  },
  "cells": [
    {
      "cell_type": "markdown",
      "source": [
        "# Feature engineering"
      ],
      "metadata": {
        "id": "jTZp89Gog1iW"
      }
    },
    {
      "cell_type": "markdown",
      "source": [
        "## Importing required libraries"
      ],
      "metadata": {
        "id": "dJCnPUCQl1Si"
      }
    },
    {
      "cell_type": "code",
      "source": [
        "!pip install talib-binary"
      ],
      "metadata": {
        "colab": {
          "base_uri": "https://localhost:8080/"
        },
        "id": "PCCLEv0Xg4ke",
        "outputId": "c4f50370-506a-41ed-dc18-592bcb0409c6"
      },
      "execution_count": 5,
      "outputs": [
        {
          "output_type": "stream",
          "name": "stdout",
          "text": [
            "Looking in indexes: https://pypi.org/simple, https://us-python.pkg.dev/colab-wheels/public/simple/\n",
            "Requirement already satisfied: talib-binary in /usr/local/lib/python3.7/dist-packages (0.4.19)\n",
            "Requirement already satisfied: numpy in /usr/local/lib/python3.7/dist-packages (from talib-binary) (1.21.6)\n"
          ]
        }
      ]
    },
    {
      "cell_type": "code",
      "source": [
        "from google.colab import drive\n",
        "drive.mount('/content/drive')"
      ],
      "metadata": {
        "id": "C2nAaKYaxDJ6",
        "colab": {
          "base_uri": "https://localhost:8080/"
        },
        "outputId": "00e85a54-1683-473a-b99c-b6652705c9ee"
      },
      "execution_count": 6,
      "outputs": [
        {
          "output_type": "stream",
          "name": "stdout",
          "text": [
            "Drive already mounted at /content/drive; to attempt to forcibly remount, call drive.mount(\"/content/drive\", force_remount=True).\n"
          ]
        }
      ]
    },
    {
      "cell_type": "code",
      "source": [
        "import pandas as pd\n",
        "import numpy as np\n",
        "from google.colab import files\n",
        "import talib as tb\n",
        "import matplotlib.pyplot as plt"
      ],
      "metadata": {
        "id": "do4lUzbihIG6"
      },
      "execution_count": null,
      "outputs": []
    },
    {
      "cell_type": "markdown",
      "source": [
        "## With Fear Gear index"
      ],
      "metadata": {
        "id": "u9pZ-utplrwK"
      }
    },
    {
      "cell_type": "code",
      "source": [
        "#uploaded = files.upload()"
      ],
      "metadata": {
        "colab": {
          "base_uri": "https://localhost:8080/",
          "height": 345
        },
        "id": "U7jZJ4ZFhUph",
        "outputId": "19950961-a76a-42bd-9b35-010faa1ff1d5"
      },
      "execution_count": null,
      "outputs": [
        {
          "output_type": "display_data",
          "data": {
            "text/plain": [
              "<IPython.core.display.HTML object>"
            ],
            "text/html": [
              "\n",
              "     <input type=\"file\" id=\"files-e6d2bc61-ac80-4297-ae5b-e8282e0991ab\" name=\"files[]\" multiple disabled\n",
              "        style=\"border:none\" />\n",
              "     <output id=\"result-e6d2bc61-ac80-4297-ae5b-e8282e0991ab\">\n",
              "      Upload widget is only available when the cell has been executed in the\n",
              "      current browser session. Please rerun this cell to enable.\n",
              "      </output>\n",
              "      <script src=\"/nbextensions/google.colab/files.js\"></script> "
            ]
          },
          "metadata": {}
        },
        {
          "output_type": "error",
          "ename": "MessageError",
          "evalue": "ignored",
          "traceback": [
            "\u001b[0;31m---------------------------------------------------------------------------\u001b[0m",
            "\u001b[0;31mMessageError\u001b[0m                              Traceback (most recent call last)",
            "\u001b[0;32m<ipython-input-3-ed2fd71b4a2f>\u001b[0m in \u001b[0;36m<module>\u001b[0;34m\u001b[0m\n\u001b[0;32m----> 1\u001b[0;31m \u001b[0muploaded\u001b[0m \u001b[0;34m=\u001b[0m \u001b[0mfiles\u001b[0m\u001b[0;34m.\u001b[0m\u001b[0mupload\u001b[0m\u001b[0;34m(\u001b[0m\u001b[0;34m)\u001b[0m\u001b[0;34m\u001b[0m\u001b[0;34m\u001b[0m\u001b[0m\n\u001b[0m",
            "\u001b[0;32m/usr/local/lib/python3.7/dist-packages/google/colab/files.py\u001b[0m in \u001b[0;36mupload\u001b[0;34m()\u001b[0m\n\u001b[1;32m     39\u001b[0m   \"\"\"\n\u001b[1;32m     40\u001b[0m \u001b[0;34m\u001b[0m\u001b[0m\n\u001b[0;32m---> 41\u001b[0;31m   \u001b[0muploaded_files\u001b[0m \u001b[0;34m=\u001b[0m \u001b[0m_upload_files\u001b[0m\u001b[0;34m(\u001b[0m\u001b[0mmultiple\u001b[0m\u001b[0;34m=\u001b[0m\u001b[0;32mTrue\u001b[0m\u001b[0;34m)\u001b[0m\u001b[0;34m\u001b[0m\u001b[0;34m\u001b[0m\u001b[0m\n\u001b[0m\u001b[1;32m     42\u001b[0m   \u001b[0;31m# Mapping from original filename to filename as saved locally.\u001b[0m\u001b[0;34m\u001b[0m\u001b[0;34m\u001b[0m\u001b[0;34m\u001b[0m\u001b[0m\n\u001b[1;32m     43\u001b[0m   \u001b[0mlocal_filenames\u001b[0m \u001b[0;34m=\u001b[0m \u001b[0mdict\u001b[0m\u001b[0;34m(\u001b[0m\u001b[0;34m)\u001b[0m\u001b[0;34m\u001b[0m\u001b[0;34m\u001b[0m\u001b[0m\n",
            "\u001b[0;32m/usr/local/lib/python3.7/dist-packages/google/colab/files.py\u001b[0m in \u001b[0;36m_upload_files\u001b[0;34m(multiple)\u001b[0m\n\u001b[1;32m    116\u001b[0m   result = _output.eval_js(\n\u001b[1;32m    117\u001b[0m       'google.colab._files._uploadFiles(\"{input_id}\", \"{output_id}\")'.format(\n\u001b[0;32m--> 118\u001b[0;31m           input_id=input_id, output_id=output_id))\n\u001b[0m\u001b[1;32m    119\u001b[0m   \u001b[0mfiles\u001b[0m \u001b[0;34m=\u001b[0m \u001b[0m_collections\u001b[0m\u001b[0;34m.\u001b[0m\u001b[0mdefaultdict\u001b[0m\u001b[0;34m(\u001b[0m\u001b[0mbytes\u001b[0m\u001b[0;34m)\u001b[0m\u001b[0;34m\u001b[0m\u001b[0;34m\u001b[0m\u001b[0m\n\u001b[1;32m    120\u001b[0m \u001b[0;34m\u001b[0m\u001b[0m\n",
            "\u001b[0;32m/usr/local/lib/python3.7/dist-packages/google/colab/output/_js.py\u001b[0m in \u001b[0;36meval_js\u001b[0;34m(script, ignore_result, timeout_sec)\u001b[0m\n\u001b[1;32m     38\u001b[0m   \u001b[0;32mif\u001b[0m \u001b[0mignore_result\u001b[0m\u001b[0;34m:\u001b[0m\u001b[0;34m\u001b[0m\u001b[0;34m\u001b[0m\u001b[0m\n\u001b[1;32m     39\u001b[0m     \u001b[0;32mreturn\u001b[0m\u001b[0;34m\u001b[0m\u001b[0;34m\u001b[0m\u001b[0m\n\u001b[0;32m---> 40\u001b[0;31m   \u001b[0;32mreturn\u001b[0m \u001b[0m_message\u001b[0m\u001b[0;34m.\u001b[0m\u001b[0mread_reply_from_input\u001b[0m\u001b[0;34m(\u001b[0m\u001b[0mrequest_id\u001b[0m\u001b[0;34m,\u001b[0m \u001b[0mtimeout_sec\u001b[0m\u001b[0;34m)\u001b[0m\u001b[0;34m\u001b[0m\u001b[0;34m\u001b[0m\u001b[0m\n\u001b[0m\u001b[1;32m     41\u001b[0m \u001b[0;34m\u001b[0m\u001b[0m\n\u001b[1;32m     42\u001b[0m \u001b[0;34m\u001b[0m\u001b[0m\n",
            "\u001b[0;32m/usr/local/lib/python3.7/dist-packages/google/colab/_message.py\u001b[0m in \u001b[0;36mread_reply_from_input\u001b[0;34m(message_id, timeout_sec)\u001b[0m\n\u001b[1;32m    100\u001b[0m         reply.get('colab_msg_id') == message_id):\n\u001b[1;32m    101\u001b[0m       \u001b[0;32mif\u001b[0m \u001b[0;34m'error'\u001b[0m \u001b[0;32min\u001b[0m \u001b[0mreply\u001b[0m\u001b[0;34m:\u001b[0m\u001b[0;34m\u001b[0m\u001b[0;34m\u001b[0m\u001b[0m\n\u001b[0;32m--> 102\u001b[0;31m         \u001b[0;32mraise\u001b[0m \u001b[0mMessageError\u001b[0m\u001b[0;34m(\u001b[0m\u001b[0mreply\u001b[0m\u001b[0;34m[\u001b[0m\u001b[0;34m'error'\u001b[0m\u001b[0;34m]\u001b[0m\u001b[0;34m)\u001b[0m\u001b[0;34m\u001b[0m\u001b[0;34m\u001b[0m\u001b[0m\n\u001b[0m\u001b[1;32m    103\u001b[0m       \u001b[0;32mreturn\u001b[0m \u001b[0mreply\u001b[0m\u001b[0;34m.\u001b[0m\u001b[0mget\u001b[0m\u001b[0;34m(\u001b[0m\u001b[0;34m'data'\u001b[0m\u001b[0;34m,\u001b[0m \u001b[0;32mNone\u001b[0m\u001b[0;34m)\u001b[0m\u001b[0;34m\u001b[0m\u001b[0;34m\u001b[0m\u001b[0m\n\u001b[1;32m    104\u001b[0m \u001b[0;34m\u001b[0m\u001b[0m\n",
            "\u001b[0;31mMessageError\u001b[0m: TypeError: google.colab._files is undefined"
          ]
        }
      ]
    },
    {
      "cell_type": "code",
      "source": [
        "data_raw_25 = pd.read_csv('/content/drive/MyDrive/Colab Notebooks/BTC  Price Prediction/btc_raw_25.csv')"
      ],
      "metadata": {
        "id": "ZcMU7irdXL2W"
      },
      "execution_count": 7,
      "outputs": []
    },
    {
      "cell_type": "code",
      "source": [
        "df_25 = data_raw_25.copy()\n",
        "raw_features_25 = list(df_25.columns[1:-1])\n",
        "smoothening_range_25 = [3,7,14,30,90]"
      ],
      "metadata": {
        "id": "VbP_rA2-pdla"
      },
      "execution_count": 8,
      "outputs": []
    },
    {
      "cell_type": "code",
      "source": [
        "raw_features_25"
      ],
      "metadata": {
        "colab": {
          "base_uri": "https://localhost:8080/"
        },
        "outputId": "3ae71235-7ff9-4295-8a2e-538b03928778",
        "id": "_4wR2nHnpdla"
      },
      "execution_count": 9,
      "outputs": [
        {
          "output_type": "execute_result",
          "data": {
            "text/plain": [
              "['transactions',\n",
              " 'size',\n",
              " 'sentbyaddress',\n",
              " 'difficulty',\n",
              " 'hashrate',\n",
              " 'mining_profitability',\n",
              " 'sentinusd',\n",
              " 'transactionfees',\n",
              " 'median_transaction_fee',\n",
              " 'confirmationtime',\n",
              " 'transactionvalue',\n",
              " 'tweets',\n",
              " 'google_trends',\n",
              " 'mediantransactionvalue',\n",
              " 'activeaddresses',\n",
              " 'top100cap',\n",
              " 'fee_to_reward',\n",
              " 'avg_price',\n",
              " 'Open',\n",
              " 'High',\n",
              " 'Low',\n",
              " 'Close',\n",
              " 'miners_revenue',\n",
              " 'coins_in_supply',\n",
              " 'fear_gear_index']"
            ]
          },
          "metadata": {},
          "execution_count": 9
        }
      ]
    },
    {
      "cell_type": "code",
      "source": [
        "# feature engineering raw features using smoothening techniques for technical analysis\n",
        "# https://technical-analysis-library-in-python.readthedocs.io/en/latest/\n",
        "\n",
        "for i in raw_features_25:\n",
        "  for j in smoothening_range_25:\n",
        "    df_new = pd.DataFrame()\n",
        "\n",
        "    # Simple moving average:\n",
        "    df_new[i+'_'+str(j)+'sma'] = tb.SMA(df_25[i], timeperiod=j)\n",
        "\n",
        "    # Weighted moving average:\n",
        "    df_new[i+'_'+str(j)+'wma'] = tb.WMA(df_25[i], timeperiod=j)\n",
        "\n",
        "    # Standard deviation\n",
        "    df_new[i+'_'+str(j)+'std'] = tb.STDDEV(df_25[i], timeperiod=j, nbdev=1)\n",
        "\n",
        "    # Variance\n",
        "    df_new[i+'_'+str(j)+'var'] = tb.VAR(df_25[i], timeperiod=j, nbdev=1)\n",
        "\n",
        "    # Exponential moving average\n",
        "    df_new[i+'_'+str(j)+'ema'] = tb.EMA(df_25[i], timeperiod=j)\n",
        "\n",
        "    # Relative Strength index\n",
        "    df_new[i+'_'+str(j)+'rsi'] = tb.RSI(df_25[i], timeperiod=j)\n",
        "\n",
        "    # Rate of change\n",
        "    df_new[i+'_'+str(j)+'roc'] = tb.ROC(df_25[i], timeperiod=j)\n",
        "\n",
        "    # Momentum indicator\n",
        "    df_new[i+'_'+str(j)+'mom'] = tb.MOM(df_25[i], timeperiod=j)\n",
        "\n",
        "    # Triple exponential  moving average\n",
        "    df_new[i+'_'+str(j)+'tema'] = tb.TEMA(df_25[i], timeperiod=j)\n",
        "\n",
        "    # Double exponential moving average\n",
        "    df_new[i+'_'+str(j)+'dema'] = tb.DEMA(df_25[i], timeperiod=j)\n",
        "\n",
        "    # Bollinger bands\n",
        "    df_new[i+'_'+str(j)+'BBupper'], df_new[i+'_'+str(j)+'BBmiddle'], df_new[i+'_'+str(j)+'BBlower'] = tb.BBANDS(df_25[i], timeperiod=j, nbdevup=2, nbdevdn=2, matype=0)\n",
        "    df_25 = pd.concat([df_25, df_new], axis=1)\n"
      ],
      "metadata": {
        "id": "3BDYX6LNuAX6"
      },
      "execution_count": 10,
      "outputs": []
    },
    {
      "cell_type": "code",
      "source": [
        "df_25.isnull().sum().sort_values(ascending=False).head(10)"
      ],
      "metadata": {
        "id": "0MoyJrbb1hnu",
        "colab": {
          "base_uri": "https://localhost:8080/"
        },
        "outputId": "0d5c0e35-a4fa-490f-a7c4-1624b50a26d4"
      },
      "execution_count": 11,
      "outputs": [
        {
          "output_type": "execute_result",
          "data": {
            "text/plain": [
              "mediantransactionvalue_90tema    267\n",
              "Low_90tema                       267\n",
              "coins_in_supply_90tema           267\n",
              "sentinusd_90tema                 267\n",
              "mining_profitability_90tema      267\n",
              "transactionfees_90tema           267\n",
              "Open_90tema                      267\n",
              "top100cap_90tema                 267\n",
              "High_90tema                      267\n",
              "tweets_90tema                    267\n",
              "dtype: int64"
            ]
          },
          "metadata": {},
          "execution_count": 11
        }
      ]
    },
    {
      "cell_type": "code",
      "source": [
        "df_25_final = df_25.iloc[267:,:]"
      ],
      "metadata": {
        "id": "sEZAzHEyvs06"
      },
      "execution_count": 12,
      "outputs": []
    },
    {
      "cell_type": "code",
      "source": [
        "df_25_final.shape"
      ],
      "metadata": {
        "colab": {
          "base_uri": "https://localhost:8080/"
        },
        "id": "f5kiuCTwh4IG",
        "outputId": "04ff7ffe-04a3-495b-ec4f-ddcc5e2b1825"
      },
      "execution_count": 13,
      "outputs": [
        {
          "output_type": "execute_result",
          "data": {
            "text/plain": [
              "(1149, 1652)"
            ]
          },
          "metadata": {},
          "execution_count": 13
        }
      ]
    },
    {
      "cell_type": "code",
      "source": [
        "df_25_final.isnull().any().sum()"
      ],
      "metadata": {
        "colab": {
          "base_uri": "https://localhost:8080/"
        },
        "id": "NhUG7ae4lj-Y",
        "outputId": "13a5003f-7eb1-47c0-f447-f19c9d265871"
      },
      "execution_count": 14,
      "outputs": [
        {
          "output_type": "execute_result",
          "data": {
            "text/plain": [
              "0"
            ]
          },
          "metadata": {},
          "execution_count": 14
        }
      ]
    },
    {
      "cell_type": "markdown",
      "source": [
        "## Without Fear Gear index"
      ],
      "metadata": {
        "id": "PIdonLY3lmjP"
      }
    },
    {
      "cell_type": "code",
      "source": [
        "#uploaded1 = files.upload()"
      ],
      "metadata": {
        "id": "VBBNlKTyljN-"
      },
      "execution_count": 16,
      "outputs": []
    },
    {
      "cell_type": "code",
      "source": [
        "data_raw_24 = pd.read_csv('/content/drive/MyDrive/Colab Notebooks/BTC  Price Prediction/btc_raw_24.csv')"
      ],
      "metadata": {
        "id": "-T2QreioljOA"
      },
      "execution_count": 17,
      "outputs": []
    },
    {
      "cell_type": "code",
      "source": [
        "data_raw_24.isnull().sum()"
      ],
      "metadata": {
        "colab": {
          "base_uri": "https://localhost:8080/"
        },
        "id": "q13RBqkjnUW1",
        "outputId": "4bb523b7-71cd-4057-f45a-a1747e58f083"
      },
      "execution_count": 18,
      "outputs": [
        {
          "output_type": "execute_result",
          "data": {
            "text/plain": [
              "Date                         0\n",
              "transactions                 0\n",
              "size                         0\n",
              "sentbyaddress                0\n",
              "difficulty                   0\n",
              "hashrate                     0\n",
              "mining_profitability         0\n",
              "sentinusd                    0\n",
              "transactionfees              0\n",
              "median_transaction_fee     270\n",
              "confirmationtime             0\n",
              "transactionvalue             0\n",
              "tweets                    1361\n",
              "google_trends                0\n",
              "mediantransactionvalue       0\n",
              "activeaddresses              0\n",
              "top100cap                    0\n",
              "fee_to_reward                0\n",
              "avg_price                    0\n",
              "Open                         0\n",
              "High                         0\n",
              "Low                          0\n",
              "Close                        0\n",
              "miners_revenue               0\n",
              "coins_in_supply              0\n",
              "next_day_BTC_price           0\n",
              "dtype: int64"
            ]
          },
          "metadata": {},
          "execution_count": 18
        }
      ]
    },
    {
      "cell_type": "code",
      "source": [
        "data_raw_24 = data_raw_24.iloc[1361:,:]"
      ],
      "metadata": {
        "id": "UW_KmAY-moVt"
      },
      "execution_count": 19,
      "outputs": []
    },
    {
      "cell_type": "code",
      "source": [
        "df_24 = data_raw_24.copy()\n",
        "raw_features_24 = list(df_24.columns[1:-1])\n",
        "smoothening_range_24 = [3,7,14,30,90]"
      ],
      "metadata": {
        "id": "rovFGzqCljOB"
      },
      "execution_count": 20,
      "outputs": []
    },
    {
      "cell_type": "code",
      "source": [
        "raw_features_24"
      ],
      "metadata": {
        "colab": {
          "base_uri": "https://localhost:8080/"
        },
        "outputId": "63ace0a5-29ce-4ef2-b4fa-a36e5cd9f8ef",
        "id": "MkmwfiuWljOB"
      },
      "execution_count": 21,
      "outputs": [
        {
          "output_type": "execute_result",
          "data": {
            "text/plain": [
              "['transactions',\n",
              " 'size',\n",
              " 'sentbyaddress',\n",
              " 'difficulty',\n",
              " 'hashrate',\n",
              " 'mining_profitability',\n",
              " 'sentinusd',\n",
              " 'transactionfees',\n",
              " 'median_transaction_fee',\n",
              " 'confirmationtime',\n",
              " 'transactionvalue',\n",
              " 'tweets',\n",
              " 'google_trends',\n",
              " 'mediantransactionvalue',\n",
              " 'activeaddresses',\n",
              " 'top100cap',\n",
              " 'fee_to_reward',\n",
              " 'avg_price',\n",
              " 'Open',\n",
              " 'High',\n",
              " 'Low',\n",
              " 'Close',\n",
              " 'miners_revenue',\n",
              " 'coins_in_supply']"
            ]
          },
          "metadata": {},
          "execution_count": 21
        }
      ]
    },
    {
      "cell_type": "code",
      "source": [
        "# feature engineering raw features using smoothening techniques for technical analysis\n",
        "# https://technical-analysis-library-in-python.readthedocs.io/en/latest/\n",
        "\n",
        "for i in raw_features_24:\n",
        "  for j in smoothening_range_24:\n",
        "    df_new = pd.DataFrame()\n",
        "\n",
        "    # Simple moving average:\n",
        "    df_new[i+'_'+str(j)+'sma'] = tb.SMA(df_24[i], timeperiod=j)\n",
        "\n",
        "    # Weighted moving average:\n",
        "    df_new[i+'_'+str(j)+'wma'] = tb.WMA(df_24[i], timeperiod=j)\n",
        "\n",
        "    # Standard deviation\n",
        "    df_new[i+'_'+str(j)+'std'] = tb.STDDEV(df_24[i], timeperiod=j, nbdev=1)\n",
        "\n",
        "    # Variance\n",
        "    df_new[i+'_'+str(j)+'var'] = tb.VAR(df_24[i], timeperiod=j, nbdev=1)\n",
        "\n",
        "    # Exponential moving average\n",
        "    df_new[i+'_'+str(j)+'ema'] = tb.EMA(df_24[i], timeperiod=j)\n",
        "\n",
        "    # Relative Strength index\n",
        "    df_new[i+'_'+str(j)+'rsi'] = tb.RSI(df_24[i], timeperiod=j)\n",
        "\n",
        "    # Rate of change\n",
        "    df_new[i+'_'+str(j)+'roc'] = tb.ROC(df_24[i], timeperiod=j)\n",
        "\n",
        "    # Momentum indicator\n",
        "    df_new[i+'_'+str(j)+'mom'] = tb.MOM(df_24[i], timeperiod=j)\n",
        "\n",
        "    # Triple exponential  moving average\n",
        "    df_new[i+'_'+str(j)+'tema'] = tb.TEMA(df_24[i], timeperiod=j)\n",
        "\n",
        "    # Double exponential moving average\n",
        "    df_new[i+'_'+str(j)+'dema'] = tb.DEMA(df_24[i], timeperiod=j)\n",
        "\n",
        "    # Bollinger bands\n",
        "    df_new[i+'_'+str(j)+'BBupper'], df_new[i+'_'+str(j)+'BBmiddle'], df_new[i+'_'+str(j)+'BBlower'] = tb.BBANDS(df_24[i], timeperiod=j, nbdevup=2, nbdevdn=2, matype=0)\n",
        "    df_24 = pd.concat([df_24, df_new], axis=1)\n"
      ],
      "metadata": {
        "id": "8Dlo5ckWljOC"
      },
      "execution_count": 22,
      "outputs": []
    },
    {
      "cell_type": "code",
      "source": [
        "df_24.isnull().sum().sort_values(ascending=False).head(10)"
      ],
      "metadata": {
        "colab": {
          "base_uri": "https://localhost:8080/"
        },
        "outputId": "e4e1d56f-a119-4489-8279-61015d7d8de4",
        "id": "AjvpzFEKljOE"
      },
      "execution_count": 23,
      "outputs": [
        {
          "output_type": "execute_result",
          "data": {
            "text/plain": [
              "difficulty_90tema                267\n",
              "tweets_90tema                    267\n",
              "Close_90tema                     267\n",
              "sentbyaddress_90tema             267\n",
              "median_transaction_fee_90tema    267\n",
              "Low_90tema                       267\n",
              "confirmationtime_90tema          267\n",
              "transactionvalue_90tema          267\n",
              "High_90tema                      267\n",
              "google_trends_90tema             267\n",
              "dtype: int64"
            ]
          },
          "metadata": {},
          "execution_count": 23
        }
      ]
    },
    {
      "cell_type": "code",
      "source": [
        "df_24_final = df_24.iloc[267:,:]"
      ],
      "metadata": {
        "id": "wsu3_gZmljOF"
      },
      "execution_count": 24,
      "outputs": []
    },
    {
      "cell_type": "code",
      "source": [
        "df_24_final.shape"
      ],
      "metadata": {
        "colab": {
          "base_uri": "https://localhost:8080/"
        },
        "outputId": "39681794-075e-4af5-d0f9-75a99e587433",
        "id": "BTuj9P0RljOF"
      },
      "execution_count": 25,
      "outputs": [
        {
          "output_type": "execute_result",
          "data": {
            "text/plain": [
              "(2707, 1586)"
            ]
          },
          "metadata": {},
          "execution_count": 25
        }
      ]
    },
    {
      "cell_type": "code",
      "source": [
        "df_24_final.isnull().any().sum()"
      ],
      "metadata": {
        "colab": {
          "base_uri": "https://localhost:8080/"
        },
        "outputId": "e5f66e47-3767-42d8-d5cf-82060ba65cf9",
        "id": "AEtGHlFuljOG"
      },
      "execution_count": 26,
      "outputs": [
        {
          "output_type": "execute_result",
          "data": {
            "text/plain": [
              "0"
            ]
          },
          "metadata": {},
          "execution_count": 26
        }
      ]
    },
    {
      "cell_type": "markdown",
      "source": [
        "## Saving data to file"
      ],
      "metadata": {
        "id": "92PKAnYsi5--"
      }
    },
    {
      "cell_type": "code",
      "source": [
        "df_25_final.to_csv('/content/drive/MyDrive/Colab Notebooks/BTC  Price Prediction/BTC_feature_engineered_data_25.csv',sep=',',index=False)\n",
        "df_24_final.to_csv('/content/drive/MyDrive/Colab Notebooks/BTC  Price Prediction/BTC_feature_engineered_data_24.csv',sep=',',index=False)"
      ],
      "metadata": {
        "id": "yaU1xlAjlcfT"
      },
      "execution_count": 27,
      "outputs": []
    }
  ]
}